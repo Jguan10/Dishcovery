{
 "cells": [
  {
   "cell_type": "markdown",
   "metadata": {},
   "source": [
    "Code takes ingredients from three datasets and combines them"
   ]
  },
  {
   "cell_type": "code",
   "execution_count": 2,
   "metadata": {},
   "outputs": [],
   "source": [
    "import pandas as pd\n",
    "import re\n",
    "import ast\n",
    "import numpy as np"
   ]
  },
  {
   "cell_type": "code",
   "execution_count": 14,
   "metadata": {},
   "outputs": [],
   "source": [
    "df1 = pd.read_csv('Data/recipes_ingredients.csv')\n",
    "df2 = pd.read_csv('Data/recipes.csv')"
   ]
  },
  {
   "cell_type": "code",
   "execution_count": 15,
   "metadata": {},
   "outputs": [
    {
     "data": {
      "text/html": [
       "<div>\n",
       "<style scoped>\n",
       "    .dataframe tbody tr th:only-of-type {\n",
       "        vertical-align: middle;\n",
       "    }\n",
       "\n",
       "    .dataframe tbody tr th {\n",
       "        vertical-align: top;\n",
       "    }\n",
       "\n",
       "    .dataframe thead th {\n",
       "        text-align: right;\n",
       "    }\n",
       "</style>\n",
       "<table border=\"1\" class=\"dataframe\">\n",
       "  <thead>\n",
       "    <tr style=\"text-align: right;\">\n",
       "      <th></th>\n",
       "      <th>RecipeId</th>\n",
       "      <th>RecipeIngredientParts</th>\n",
       "    </tr>\n",
       "  </thead>\n",
       "  <tbody>\n",
       "    <tr>\n",
       "      <th>0</th>\n",
       "      <td>38</td>\n",
       "      <td>c(\"blueberries\", \"granulated sugar\", \"vanilla ...</td>\n",
       "    </tr>\n",
       "    <tr>\n",
       "      <th>1</th>\n",
       "      <td>39</td>\n",
       "      <td>c(\"saffron\", \"milk\", \"hot green chili peppers\"...</td>\n",
       "    </tr>\n",
       "    <tr>\n",
       "      <th>2</th>\n",
       "      <td>40</td>\n",
       "      <td>c(\"sugar\", \"lemons, rind of\", \"lemon, zest of\"...</td>\n",
       "    </tr>\n",
       "    <tr>\n",
       "      <th>3</th>\n",
       "      <td>41</td>\n",
       "      <td>c(\"extra firm tofu\", \"eggplant\", \"zucchini\", \"...</td>\n",
       "    </tr>\n",
       "    <tr>\n",
       "      <th>4</th>\n",
       "      <td>42</td>\n",
       "      <td>c(\"plain tomato juice\", \"cabbage\", \"onion\", \"c...</td>\n",
       "    </tr>\n",
       "    <tr>\n",
       "      <th>5</th>\n",
       "      <td>43</td>\n",
       "      <td>c(\"graham cracker crumbs\", \"sugar\", \"butter\", ...</td>\n",
       "    </tr>\n",
       "    <tr>\n",
       "      <th>6</th>\n",
       "      <td>44</td>\n",
       "      <td>c(\"chicken\", \"butter\", \"flour\", \"milk\", \"celer...</td>\n",
       "    </tr>\n",
       "    <tr>\n",
       "      <th>7</th>\n",
       "      <td>45</td>\n",
       "      <td>c(\"sugar\", \"margarine\", \"egg\", \"flour\", \"salt\"...</td>\n",
       "    </tr>\n",
       "    <tr>\n",
       "      <th>8</th>\n",
       "      <td>46</td>\n",
       "      <td>c(\"rice vinegar\", \"haeo\")</td>\n",
       "    </tr>\n",
       "    <tr>\n",
       "      <th>9</th>\n",
       "      <td>47</td>\n",
       "      <td>c(\"butter\", \"brown sugar\", \"granulated sugar\",...</td>\n",
       "    </tr>\n",
       "  </tbody>\n",
       "</table>\n",
       "</div>"
      ],
      "text/plain": [
       "   RecipeId                              RecipeIngredientParts\n",
       "0        38  c(\"blueberries\", \"granulated sugar\", \"vanilla ...\n",
       "1        39  c(\"saffron\", \"milk\", \"hot green chili peppers\"...\n",
       "2        40  c(\"sugar\", \"lemons, rind of\", \"lemon, zest of\"...\n",
       "3        41  c(\"extra firm tofu\", \"eggplant\", \"zucchini\", \"...\n",
       "4        42  c(\"plain tomato juice\", \"cabbage\", \"onion\", \"c...\n",
       "5        43  c(\"graham cracker crumbs\", \"sugar\", \"butter\", ...\n",
       "6        44  c(\"chicken\", \"butter\", \"flour\", \"milk\", \"celer...\n",
       "7        45  c(\"sugar\", \"margarine\", \"egg\", \"flour\", \"salt\"...\n",
       "8        46                          c(\"rice vinegar\", \"haeo\")\n",
       "9        47  c(\"butter\", \"brown sugar\", \"granulated sugar\",..."
      ]
     },
     "execution_count": 15,
     "metadata": {},
     "output_type": "execute_result"
    }
   ],
   "source": [
    "df2 = df2[['RecipeId', 'RecipeIngredientParts']]\n",
    "df2.head(10)"
   ]
  },
  {
   "cell_type": "code",
   "execution_count": 18,
   "metadata": {},
   "outputs": [
    {
     "name": "stdout",
     "output_type": "stream",
     "text": [
      "<class 'pandas.core.frame.DataFrame'>\n",
      "RangeIndex: 522517 entries, 0 to 522516\n",
      "Data columns (total 2 columns):\n",
      " #   Column                 Non-Null Count   Dtype \n",
      "---  ------                 --------------   ----- \n",
      " 0   RecipeId               522517 non-null  int64 \n",
      " 1   RecipeIngredientParts  522517 non-null  object\n",
      "dtypes: int64(1), object(1)\n",
      "memory usage: 8.0+ MB\n"
     ]
    }
   ],
   "source": [
    "df2.info()"
   ]
  },
  {
   "cell_type": "code",
   "execution_count": 16,
   "metadata": {},
   "outputs": [
    {
     "data": {
      "text/html": [
       "<div>\n",
       "<style scoped>\n",
       "    .dataframe tbody tr th:only-of-type {\n",
       "        vertical-align: middle;\n",
       "    }\n",
       "\n",
       "    .dataframe tbody tr th {\n",
       "        vertical-align: top;\n",
       "    }\n",
       "\n",
       "    .dataframe thead th {\n",
       "        text-align: right;\n",
       "    }\n",
       "</style>\n",
       "<table border=\"1\" class=\"dataframe\">\n",
       "  <thead>\n",
       "    <tr style=\"text-align: right;\">\n",
       "      <th></th>\n",
       "      <th>id</th>\n",
       "      <th>ingredients</th>\n",
       "    </tr>\n",
       "  </thead>\n",
       "  <tbody>\n",
       "    <tr>\n",
       "      <th>0</th>\n",
       "      <td>71247</td>\n",
       "      <td>[\"cherry pie filling\", \"condensed milk\", \"melt...</td>\n",
       "    </tr>\n",
       "    <tr>\n",
       "      <th>1</th>\n",
       "      <td>76133</td>\n",
       "      <td>[\"corned beef chopped\", \"sauerkraut cold water...</td>\n",
       "    </tr>\n",
       "    <tr>\n",
       "      <th>2</th>\n",
       "      <td>503816</td>\n",
       "      <td>[\"unsalted butter\", \"vegetable oil\", \"all - pu...</td>\n",
       "    </tr>\n",
       "    <tr>\n",
       "      <th>3</th>\n",
       "      <td>418749</td>\n",
       "      <td>[\"orange cake mix\", \"instant vanilla pudding\",...</td>\n",
       "    </tr>\n",
       "    <tr>\n",
       "      <th>4</th>\n",
       "      <td>392934</td>\n",
       "      <td>[\"butter\", \"brown sugar\", \"granulated sugar\", ...</td>\n",
       "    </tr>\n",
       "    <tr>\n",
       "      <th>5</th>\n",
       "      <td>532245</td>\n",
       "      <td>[\"chicken breasts cutlets\", \"petite carrots\", ...</td>\n",
       "    </tr>\n",
       "    <tr>\n",
       "      <th>6</th>\n",
       "      <td>489452</td>\n",
       "      <td>[\"teriyaki sauce\", \"pork chops\"]</td>\n",
       "    </tr>\n",
       "    <tr>\n",
       "      <th>7</th>\n",
       "      <td>126368</td>\n",
       "      <td>[\"flour\"]</td>\n",
       "    </tr>\n",
       "    <tr>\n",
       "      <th>8</th>\n",
       "      <td>306467</td>\n",
       "      <td>[\"olive oil\", \"yellow onion\", \"celery rib\", \"c...</td>\n",
       "    </tr>\n",
       "    <tr>\n",
       "      <th>9</th>\n",
       "      <td>318331</td>\n",
       "      <td>[\"biscuit mix\", \"granulated sugar\", \"butter\", ...</td>\n",
       "    </tr>\n",
       "  </tbody>\n",
       "</table>\n",
       "</div>"
      ],
      "text/plain": [
       "       id                                        ingredients\n",
       "0   71247  [\"cherry pie filling\", \"condensed milk\", \"melt...\n",
       "1   76133  [\"corned beef chopped\", \"sauerkraut cold water...\n",
       "2  503816  [\"unsalted butter\", \"vegetable oil\", \"all - pu...\n",
       "3  418749  [\"orange cake mix\", \"instant vanilla pudding\",...\n",
       "4  392934  [\"butter\", \"brown sugar\", \"granulated sugar\", ...\n",
       "5  532245  [\"chicken breasts cutlets\", \"petite carrots\", ...\n",
       "6  489452                   [\"teriyaki sauce\", \"pork chops\"]\n",
       "7  126368                                          [\"flour\"]\n",
       "8  306467  [\"olive oil\", \"yellow onion\", \"celery rib\", \"c...\n",
       "9  318331  [\"biscuit mix\", \"granulated sugar\", \"butter\", ..."
      ]
     },
     "execution_count": 16,
     "metadata": {},
     "output_type": "execute_result"
    }
   ],
   "source": [
    "df1 = df1[['id', 'ingredients']] \n",
    "df1.head(10)"
   ]
  },
  {
   "cell_type": "code",
   "execution_count": 19,
   "metadata": {},
   "outputs": [
    {
     "name": "stdout",
     "output_type": "stream",
     "text": [
      "<class 'pandas.core.frame.DataFrame'>\n",
      "RangeIndex: 500471 entries, 0 to 500470\n",
      "Data columns (total 2 columns):\n",
      " #   Column       Non-Null Count   Dtype \n",
      "---  ------       --------------   ----- \n",
      " 0   RecipeId     500471 non-null  int64 \n",
      " 1   ingredients  500471 non-null  object\n",
      "dtypes: int64(1), object(1)\n",
      "memory usage: 7.6+ MB\n"
     ]
    }
   ],
   "source": [
    "df1.info()"
   ]
  },
  {
   "cell_type": "code",
   "execution_count": 17,
   "metadata": {},
   "outputs": [],
   "source": [
    "df1 = df1.rename(columns = {\"id\": \"RecipeId\"})\n",
    "test_df = pd.merge(df1, df2, how = \"inner\", on = \"RecipeId\")\n",
    "test_df.head(10)\n",
    "test_df.to_csv('ingredients.csv')"
   ]
  },
  {
   "cell_type": "code",
   "execution_count": 20,
   "metadata": {},
   "outputs": [
    {
     "name": "stdout",
     "output_type": "stream",
     "text": [
      "<class 'pandas.core.frame.DataFrame'>\n",
      "RangeIndex: 498317 entries, 0 to 498316\n",
      "Data columns (total 3 columns):\n",
      " #   Column                 Non-Null Count   Dtype \n",
      "---  ------                 --------------   ----- \n",
      " 0   RecipeId               498317 non-null  int64 \n",
      " 1   ingredients            498317 non-null  object\n",
      " 2   RecipeIngredientParts  498317 non-null  object\n",
      "dtypes: int64(1), object(2)\n",
      "memory usage: 11.4+ MB\n"
     ]
    }
   ],
   "source": [
    "test_df.info()"
   ]
  },
  {
   "cell_type": "markdown",
   "metadata": {},
   "source": [
    "From here I searched for \\ in the csv and removed any I could find as well as whatever was contained inside them."
   ]
  },
  {
   "cell_type": "code",
   "execution_count": 4,
   "metadata": {},
   "outputs": [],
   "source": [
    "# Format the column so that c() is replaced with [] and return it as a list\n",
    "# Additionally call remove_unwanted\n",
    "def clean_ingredients(ingredient_str):\n",
    "    cleaned_str = ingredient_str.replace(\"c(\", \"[\").replace(\")\", \"]\")\n",
    "\n",
    "    if cleaned_str.startswith(\"[\") and cleaned_str.endswith(\"]\"):\n",
    "        ingredients = ast.literal_eval(cleaned_str)\n",
    "        cleaned_ingredients = remove_unwanted(ingredients)\n",
    "        return cleaned_ingredients\n",
    "    else:\n",
    "        return [] "
   ]
  },
  {
   "cell_type": "code",
   "execution_count": 5,
   "metadata": {},
   "outputs": [],
   "source": [
    "# Remove words that may get in the way of combining\n",
    "def remove_unwanted(ingredients):\n",
    "\n",
    "    unwanted_words = [\"chopped\", \"cold water\", \"shredded\"]\n",
    "    \n",
    "    cleaned = []\n",
    "    for ingredient in ingredients:\n",
    "        for word in unwanted_words:\n",
    "            ingredient = re.sub(r'\\b' + re.escape(word) + r'\\b', '', ingredient, flags = re.IGNORECASE)\n",
    "        ingredient = re.sub(r'\\s+', ' ', ingredient).strip() \n",
    "        cleaned.append(ingredient)\n",
    "    \n",
    "    return cleaned"
   ]
  },
  {
   "cell_type": "code",
   "execution_count": 6,
   "metadata": {},
   "outputs": [],
   "source": [
    "# Combine the two columns of ingredients\n",
    "def combine_ingredients(row):\n",
    "    \n",
    "    left_ingredients = clean_ingredients(row['ingredients']) if row['ingredients'] else []\n",
    "    right_ingredients = clean_ingredients(row['RecipeIngredientParts']) or []\n",
    "    \n",
    "    combined = list(set(left_ingredients + right_ingredients))\n",
    "    return combined"
   ]
  },
  {
   "cell_type": "code",
   "execution_count": 7,
   "metadata": {},
   "outputs": [],
   "source": [
    "test_df = pd.read_csv('Data/ingredients.csv')\n",
    "test_df['Raw_Ingredients'] = test_df.apply(combine_ingredients, axis = 1)\n",
    "test_df = test_df[['RecipeId', 'Raw_Ingredients']]"
   ]
  },
  {
   "cell_type": "code",
   "execution_count": 8,
   "metadata": {},
   "outputs": [
    {
     "data": {
      "text/html": [
       "<div>\n",
       "<style scoped>\n",
       "    .dataframe tbody tr th:only-of-type {\n",
       "        vertical-align: middle;\n",
       "    }\n",
       "\n",
       "    .dataframe tbody tr th {\n",
       "        vertical-align: top;\n",
       "    }\n",
       "\n",
       "    .dataframe thead th {\n",
       "        text-align: right;\n",
       "    }\n",
       "</style>\n",
       "<table border=\"1\" class=\"dataframe\">\n",
       "  <thead>\n",
       "    <tr style=\"text-align: right;\">\n",
       "      <th></th>\n",
       "      <th>RecipeId</th>\n",
       "      <th>Raw_Ingredients</th>\n",
       "    </tr>\n",
       "  </thead>\n",
       "  <tbody>\n",
       "    <tr>\n",
       "      <th>0</th>\n",
       "      <td>71247</td>\n",
       "      <td>[condensed milk, margarine, melted margarine, ...</td>\n",
       "    </tr>\n",
       "    <tr>\n",
       "      <th>1</th>\n",
       "      <td>76133</td>\n",
       "      <td>[corned beef, sauerkraut, swiss cheese, butter...</td>\n",
       "    </tr>\n",
       "    <tr>\n",
       "      <th>2</th>\n",
       "      <td>503816</td>\n",
       "      <td>[salt, sugar, all - purpose flour, vegetable o...</td>\n",
       "    </tr>\n",
       "    <tr>\n",
       "      <th>3</th>\n",
       "      <td>418749</td>\n",
       "      <td>[orange gelatin, instant vanilla pudding, oran...</td>\n",
       "    </tr>\n",
       "    <tr>\n",
       "      <th>4</th>\n",
       "      <td>392934</td>\n",
       "      <td>[salt, granulated sugar, butter, chocolate chi...</td>\n",
       "    </tr>\n",
       "    <tr>\n",
       "      <th>5</th>\n",
       "      <td>532245</td>\n",
       "      <td>[chicken breasts cutlets, carrots, water, marg...</td>\n",
       "    </tr>\n",
       "    <tr>\n",
       "      <th>6</th>\n",
       "      <td>489452</td>\n",
       "      <td>[pork chops, teriyaki sauce]</td>\n",
       "    </tr>\n",
       "    <tr>\n",
       "      <th>7</th>\n",
       "      <td>126368</td>\n",
       "      <td>[sugar, milk, salt, flour]</td>\n",
       "    </tr>\n",
       "    <tr>\n",
       "      <th>8</th>\n",
       "      <td>306467</td>\n",
       "      <td>[dry red wine, salt, parmesan cheese, celery r...</td>\n",
       "    </tr>\n",
       "    <tr>\n",
       "      <th>9</th>\n",
       "      <td>318331</td>\n",
       "      <td>[granulated sugar, butter, biscuit mix, milk, ...</td>\n",
       "    </tr>\n",
       "  </tbody>\n",
       "</table>\n",
       "</div>"
      ],
      "text/plain": [
       "   RecipeId                                    Raw_Ingredients\n",
       "0     71247  [condensed milk, margarine, melted margarine, ...\n",
       "1     76133  [corned beef, sauerkraut, swiss cheese, butter...\n",
       "2    503816  [salt, sugar, all - purpose flour, vegetable o...\n",
       "3    418749  [orange gelatin, instant vanilla pudding, oran...\n",
       "4    392934  [salt, granulated sugar, butter, chocolate chi...\n",
       "5    532245  [chicken breasts cutlets, carrots, water, marg...\n",
       "6    489452                       [pork chops, teriyaki sauce]\n",
       "7    126368                         [sugar, milk, salt, flour]\n",
       "8    306467  [dry red wine, salt, parmesan cheese, celery r...\n",
       "9    318331  [granulated sugar, butter, biscuit mix, milk, ..."
      ]
     },
     "execution_count": 8,
     "metadata": {},
     "output_type": "execute_result"
    }
   ],
   "source": [
    "test_df.head(10)"
   ]
  },
  {
   "cell_type": "code",
   "execution_count": 9,
   "metadata": {},
   "outputs": [
    {
     "name": "stdout",
     "output_type": "stream",
     "text": [
      "<class 'pandas.core.frame.DataFrame'>\n",
      "RangeIndex: 498317 entries, 0 to 498316\n",
      "Data columns (total 2 columns):\n",
      " #   Column           Non-Null Count   Dtype \n",
      "---  ------           --------------   ----- \n",
      " 0   RecipeId         498317 non-null  int64 \n",
      " 1   Raw_Ingredients  498317 non-null  object\n",
      "dtypes: int64(1), object(1)\n",
      "memory usage: 7.6+ MB\n"
     ]
    }
   ],
   "source": [
    "test_df.info()"
   ]
  },
  {
   "cell_type": "code",
   "execution_count": 10,
   "metadata": {},
   "outputs": [
    {
     "data": {
      "text/html": [
       "<div>\n",
       "<style scoped>\n",
       "    .dataframe tbody tr th:only-of-type {\n",
       "        vertical-align: middle;\n",
       "    }\n",
       "\n",
       "    .dataframe tbody tr th {\n",
       "        vertical-align: top;\n",
       "    }\n",
       "\n",
       "    .dataframe thead th {\n",
       "        text-align: right;\n",
       "    }\n",
       "</style>\n",
       "<table border=\"1\" class=\"dataframe\">\n",
       "  <thead>\n",
       "    <tr style=\"text-align: right;\">\n",
       "      <th></th>\n",
       "      <th>name</th>\n",
       "      <th>id</th>\n",
       "      <th>minutes</th>\n",
       "      <th>contributor_id</th>\n",
       "      <th>submitted</th>\n",
       "      <th>tags</th>\n",
       "      <th>nutrition</th>\n",
       "      <th>n_steps</th>\n",
       "      <th>steps</th>\n",
       "      <th>description</th>\n",
       "      <th>ingredients</th>\n",
       "      <th>n_ingredients</th>\n",
       "    </tr>\n",
       "  </thead>\n",
       "  <tbody>\n",
       "    <tr>\n",
       "      <th>0</th>\n",
       "      <td>arriba   baked winter squash mexican style</td>\n",
       "      <td>137739</td>\n",
       "      <td>55</td>\n",
       "      <td>47892</td>\n",
       "      <td>2005-09-16</td>\n",
       "      <td>['60-minutes-or-less', 'time-to-make', 'course...</td>\n",
       "      <td>[51.5, 0.0, 13.0, 0.0, 2.0, 0.0, 4.0]</td>\n",
       "      <td>11</td>\n",
       "      <td>['make a choice and proceed with recipe', 'dep...</td>\n",
       "      <td>autumn is my favorite time of year to cook! th...</td>\n",
       "      <td>['winter squash', 'mexican seasoning', 'mixed ...</td>\n",
       "      <td>7</td>\n",
       "    </tr>\n",
       "    <tr>\n",
       "      <th>1</th>\n",
       "      <td>a bit different  breakfast pizza</td>\n",
       "      <td>31490</td>\n",
       "      <td>30</td>\n",
       "      <td>26278</td>\n",
       "      <td>2002-06-17</td>\n",
       "      <td>['30-minutes-or-less', 'time-to-make', 'course...</td>\n",
       "      <td>[173.4, 18.0, 0.0, 17.0, 22.0, 35.0, 1.0]</td>\n",
       "      <td>9</td>\n",
       "      <td>['preheat oven to 425 degrees f', 'press dough...</td>\n",
       "      <td>this recipe calls for the crust to be prebaked...</td>\n",
       "      <td>['prepared pizza crust', 'sausage patty', 'egg...</td>\n",
       "      <td>6</td>\n",
       "    </tr>\n",
       "    <tr>\n",
       "      <th>2</th>\n",
       "      <td>all in the kitchen  chili</td>\n",
       "      <td>112140</td>\n",
       "      <td>130</td>\n",
       "      <td>196586</td>\n",
       "      <td>2005-02-25</td>\n",
       "      <td>['time-to-make', 'course', 'preparation', 'mai...</td>\n",
       "      <td>[269.8, 22.0, 32.0, 48.0, 39.0, 27.0, 5.0]</td>\n",
       "      <td>6</td>\n",
       "      <td>['brown ground beef in large pot', 'add choppe...</td>\n",
       "      <td>this modified version of 'mom's' chili was a h...</td>\n",
       "      <td>['ground beef', 'yellow onions', 'diced tomato...</td>\n",
       "      <td>13</td>\n",
       "    </tr>\n",
       "    <tr>\n",
       "      <th>3</th>\n",
       "      <td>alouette  potatoes</td>\n",
       "      <td>59389</td>\n",
       "      <td>45</td>\n",
       "      <td>68585</td>\n",
       "      <td>2003-04-14</td>\n",
       "      <td>['60-minutes-or-less', 'time-to-make', 'course...</td>\n",
       "      <td>[368.1, 17.0, 10.0, 2.0, 14.0, 8.0, 20.0]</td>\n",
       "      <td>11</td>\n",
       "      <td>['place potatoes in a large pot of lightly sal...</td>\n",
       "      <td>this is a super easy, great tasting, make ahea...</td>\n",
       "      <td>['spreadable cheese with garlic and herbs', 'n...</td>\n",
       "      <td>11</td>\n",
       "    </tr>\n",
       "    <tr>\n",
       "      <th>4</th>\n",
       "      <td>amish  tomato ketchup  for canning</td>\n",
       "      <td>44061</td>\n",
       "      <td>190</td>\n",
       "      <td>41706</td>\n",
       "      <td>2002-10-25</td>\n",
       "      <td>['weeknight', 'time-to-make', 'course', 'main-...</td>\n",
       "      <td>[352.9, 1.0, 337.0, 23.0, 3.0, 0.0, 28.0]</td>\n",
       "      <td>5</td>\n",
       "      <td>['mix all ingredients&amp; boil for 2 1 / 2 hours ...</td>\n",
       "      <td>my dh's amish mother raised him on this recipe...</td>\n",
       "      <td>['tomato juice', 'apple cider vinegar', 'sugar...</td>\n",
       "      <td>8</td>\n",
       "    </tr>\n",
       "  </tbody>\n",
       "</table>\n",
       "</div>"
      ],
      "text/plain": [
       "                                         name      id  minutes  \\\n",
       "0  arriba   baked winter squash mexican style  137739       55   \n",
       "1            a bit different  breakfast pizza   31490       30   \n",
       "2                   all in the kitchen  chili  112140      130   \n",
       "3                          alouette  potatoes   59389       45   \n",
       "4          amish  tomato ketchup  for canning   44061      190   \n",
       "\n",
       "   contributor_id   submitted  \\\n",
       "0           47892  2005-09-16   \n",
       "1           26278  2002-06-17   \n",
       "2          196586  2005-02-25   \n",
       "3           68585  2003-04-14   \n",
       "4           41706  2002-10-25   \n",
       "\n",
       "                                                tags  \\\n",
       "0  ['60-minutes-or-less', 'time-to-make', 'course...   \n",
       "1  ['30-minutes-or-less', 'time-to-make', 'course...   \n",
       "2  ['time-to-make', 'course', 'preparation', 'mai...   \n",
       "3  ['60-minutes-or-less', 'time-to-make', 'course...   \n",
       "4  ['weeknight', 'time-to-make', 'course', 'main-...   \n",
       "\n",
       "                                    nutrition  n_steps  \\\n",
       "0       [51.5, 0.0, 13.0, 0.0, 2.0, 0.0, 4.0]       11   \n",
       "1   [173.4, 18.0, 0.0, 17.0, 22.0, 35.0, 1.0]        9   \n",
       "2  [269.8, 22.0, 32.0, 48.0, 39.0, 27.0, 5.0]        6   \n",
       "3   [368.1, 17.0, 10.0, 2.0, 14.0, 8.0, 20.0]       11   \n",
       "4   [352.9, 1.0, 337.0, 23.0, 3.0, 0.0, 28.0]        5   \n",
       "\n",
       "                                               steps  \\\n",
       "0  ['make a choice and proceed with recipe', 'dep...   \n",
       "1  ['preheat oven to 425 degrees f', 'press dough...   \n",
       "2  ['brown ground beef in large pot', 'add choppe...   \n",
       "3  ['place potatoes in a large pot of lightly sal...   \n",
       "4  ['mix all ingredients& boil for 2 1 / 2 hours ...   \n",
       "\n",
       "                                         description  \\\n",
       "0  autumn is my favorite time of year to cook! th...   \n",
       "1  this recipe calls for the crust to be prebaked...   \n",
       "2  this modified version of 'mom's' chili was a h...   \n",
       "3  this is a super easy, great tasting, make ahea...   \n",
       "4  my dh's amish mother raised him on this recipe...   \n",
       "\n",
       "                                         ingredients  n_ingredients  \n",
       "0  ['winter squash', 'mexican seasoning', 'mixed ...              7  \n",
       "1  ['prepared pizza crust', 'sausage patty', 'egg...              6  \n",
       "2  ['ground beef', 'yellow onions', 'diced tomato...             13  \n",
       "3  ['spreadable cheese with garlic and herbs', 'n...             11  \n",
       "4  ['tomato juice', 'apple cider vinegar', 'sugar...              8  "
      ]
     },
     "execution_count": 10,
     "metadata": {},
     "output_type": "execute_result"
    }
   ],
   "source": [
    "df3 = pd.read_csv('Data/RAW_recipes.csv')\n",
    "df3.head()"
   ]
  },
  {
   "cell_type": "code",
   "execution_count": 11,
   "metadata": {},
   "outputs": [
    {
     "name": "stdout",
     "output_type": "stream",
     "text": [
      "<class 'pandas.core.frame.DataFrame'>\n",
      "RangeIndex: 231637 entries, 0 to 231636\n",
      "Data columns (total 12 columns):\n",
      " #   Column          Non-Null Count   Dtype \n",
      "---  ------          --------------   ----- \n",
      " 0   name            231636 non-null  object\n",
      " 1   id              231637 non-null  int64 \n",
      " 2   minutes         231637 non-null  int64 \n",
      " 3   contributor_id  231637 non-null  int64 \n",
      " 4   submitted       231637 non-null  object\n",
      " 5   tags            231637 non-null  object\n",
      " 6   nutrition       231637 non-null  object\n",
      " 7   n_steps         231637 non-null  int64 \n",
      " 8   steps           231637 non-null  object\n",
      " 9   description     226658 non-null  object\n",
      " 10  ingredients     231637 non-null  object\n",
      " 11  n_ingredients   231637 non-null  int64 \n",
      "dtypes: int64(5), object(7)\n",
      "memory usage: 21.2+ MB\n"
     ]
    }
   ],
   "source": [
    "df3.info()"
   ]
  },
  {
   "cell_type": "code",
   "execution_count": 12,
   "metadata": {},
   "outputs": [],
   "source": [
    "df3 = df3[['id', 'ingredients']]\n",
    "df3 = df3.rename(columns = {\"id\": \"RecipeId\"})\n",
    "test_df = pd.merge(test_df, df3, how = \"left\", on = \"RecipeId\")"
   ]
  },
  {
   "cell_type": "code",
   "execution_count": 13,
   "metadata": {},
   "outputs": [
    {
     "data": {
      "text/html": [
       "<div>\n",
       "<style scoped>\n",
       "    .dataframe tbody tr th:only-of-type {\n",
       "        vertical-align: middle;\n",
       "    }\n",
       "\n",
       "    .dataframe tbody tr th {\n",
       "        vertical-align: top;\n",
       "    }\n",
       "\n",
       "    .dataframe thead th {\n",
       "        text-align: right;\n",
       "    }\n",
       "</style>\n",
       "<table border=\"1\" class=\"dataframe\">\n",
       "  <thead>\n",
       "    <tr style=\"text-align: right;\">\n",
       "      <th></th>\n",
       "      <th>RecipeId</th>\n",
       "      <th>Raw_Ingredients</th>\n",
       "      <th>ingredients</th>\n",
       "    </tr>\n",
       "  </thead>\n",
       "  <tbody>\n",
       "    <tr>\n",
       "      <th>0</th>\n",
       "      <td>71247</td>\n",
       "      <td>[condensed milk, margarine, melted margarine, ...</td>\n",
       "      <td>NaN</td>\n",
       "    </tr>\n",
       "    <tr>\n",
       "      <th>1</th>\n",
       "      <td>76133</td>\n",
       "      <td>[corned beef, sauerkraut, swiss cheese, butter...</td>\n",
       "      <td>['corned beef', 'thousand island dressing', 's...</td>\n",
       "    </tr>\n",
       "    <tr>\n",
       "      <th>2</th>\n",
       "      <td>503816</td>\n",
       "      <td>[salt, sugar, all - purpose flour, vegetable o...</td>\n",
       "      <td>NaN</td>\n",
       "    </tr>\n",
       "    <tr>\n",
       "      <th>3</th>\n",
       "      <td>418749</td>\n",
       "      <td>[orange gelatin, instant vanilla pudding, oran...</td>\n",
       "      <td>NaN</td>\n",
       "    </tr>\n",
       "    <tr>\n",
       "      <th>4</th>\n",
       "      <td>392934</td>\n",
       "      <td>[salt, granulated sugar, butter, chocolate chi...</td>\n",
       "      <td>NaN</td>\n",
       "    </tr>\n",
       "  </tbody>\n",
       "</table>\n",
       "</div>"
      ],
      "text/plain": [
       "   RecipeId                                    Raw_Ingredients  \\\n",
       "0     71247  [condensed milk, margarine, melted margarine, ...   \n",
       "1     76133  [corned beef, sauerkraut, swiss cheese, butter...   \n",
       "2    503816  [salt, sugar, all - purpose flour, vegetable o...   \n",
       "3    418749  [orange gelatin, instant vanilla pudding, oran...   \n",
       "4    392934  [salt, granulated sugar, butter, chocolate chi...   \n",
       "\n",
       "                                         ingredients  \n",
       "0                                                NaN  \n",
       "1  ['corned beef', 'thousand island dressing', 's...  \n",
       "2                                                NaN  \n",
       "3                                                NaN  \n",
       "4                                                NaN  "
      ]
     },
     "execution_count": 13,
     "metadata": {},
     "output_type": "execute_result"
    }
   ],
   "source": [
    "test_df.head()"
   ]
  },
  {
   "cell_type": "code",
   "execution_count": 14,
   "metadata": {},
   "outputs": [],
   "source": [
    "# Combine the two columns of ingredients\n",
    "def combine_ingredients_2(raw_ingredients_str, ingredients_str):\n",
    "\n",
    "    def parse_ingredients(ingredients_str):\n",
    "       \n",
    "        if isinstance(ingredients_str, list):\n",
    "            return [ingredient.strip(\" '\\\"\") for ingredient in ingredients_str]\n",
    "  \n",
    "        elif isinstance(ingredients_str, str):\n",
    "            ingredients_str = ingredients_str.strip(\"[]\") \n",
    "            ingredients_list = [ingredient.strip(\" '\\\"\") for ingredient in ingredients_str.split(\",\")]\n",
    "            return ingredients_list\n",
    "        else:\n",
    "            return []\n",
    "    \n",
    "    raw_ingredients = parse_ingredients(raw_ingredients_str)\n",
    "    ingredients = parse_ingredients(ingredients_str)\n",
    "    \n",
    "    combined_ingredients = list(set(raw_ingredients + ingredients)) \n",
    "    return list(combined_ingredients)"
   ]
  },
  {
   "cell_type": "code",
   "execution_count": 15,
   "metadata": {},
   "outputs": [],
   "source": [
    "test_df['Cleaned_Ingredients'] = test_df.apply(lambda row: combine_ingredients_2(row[\"Raw_Ingredients\"], row[\"ingredients\"]), axis = 1)\n",
    "test_df = test_df[['RecipeId','Raw_Ingredients', 'Cleaned_Ingredients']]\n",
    "test_df.to_csv('cleaned_ingredients.csv')"
   ]
  },
  {
   "cell_type": "code",
   "execution_count": 16,
   "metadata": {},
   "outputs": [],
   "source": [
    "ingredients_df = pd.read_csv('cleaned_ingredients.csv')"
   ]
  },
  {
   "cell_type": "code",
   "execution_count": 17,
   "metadata": {},
   "outputs": [
    {
     "data": {
      "text/html": [
       "<div>\n",
       "<style scoped>\n",
       "    .dataframe tbody tr th:only-of-type {\n",
       "        vertical-align: middle;\n",
       "    }\n",
       "\n",
       "    .dataframe tbody tr th {\n",
       "        vertical-align: top;\n",
       "    }\n",
       "\n",
       "    .dataframe thead th {\n",
       "        text-align: right;\n",
       "    }\n",
       "</style>\n",
       "<table border=\"1\" class=\"dataframe\">\n",
       "  <thead>\n",
       "    <tr style=\"text-align: right;\">\n",
       "      <th></th>\n",
       "      <th>Unnamed: 0</th>\n",
       "      <th>RecipeId</th>\n",
       "      <th>Raw_Ingredients</th>\n",
       "      <th>Cleaned_Ingredients</th>\n",
       "    </tr>\n",
       "  </thead>\n",
       "  <tbody>\n",
       "    <tr>\n",
       "      <th>0</th>\n",
       "      <td>0</td>\n",
       "      <td>71247</td>\n",
       "      <td>['condensed milk', 'margarine', 'melted margar...</td>\n",
       "      <td>['condensed milk', 'margarine', 'self-rising f...</td>\n",
       "    </tr>\n",
       "    <tr>\n",
       "      <th>1</th>\n",
       "      <td>1</td>\n",
       "      <td>76133</td>\n",
       "      <td>['corned beef', 'sauerkraut', 'swiss cheese', ...</td>\n",
       "      <td>['corned beef', 'sauerkraut', 'swiss cheese', ...</td>\n",
       "    </tr>\n",
       "    <tr>\n",
       "      <th>2</th>\n",
       "      <td>2</td>\n",
       "      <td>503816</td>\n",
       "      <td>['salt', 'sugar', 'all - purpose flour', 'vege...</td>\n",
       "      <td>['salt', 'sugar', 'all - purpose flour', 'vege...</td>\n",
       "    </tr>\n",
       "    <tr>\n",
       "      <th>3</th>\n",
       "      <td>3</td>\n",
       "      <td>418749</td>\n",
       "      <td>['orange gelatin', 'instant vanilla pudding', ...</td>\n",
       "      <td>['orange gelatin', 'instant vanilla pudding', ...</td>\n",
       "    </tr>\n",
       "    <tr>\n",
       "      <th>4</th>\n",
       "      <td>4</td>\n",
       "      <td>392934</td>\n",
       "      <td>['salt', 'granulated sugar', 'butter', 'chocol...</td>\n",
       "      <td>['salt', 'granulated sugar', 'vanilla', 'choco...</td>\n",
       "    </tr>\n",
       "  </tbody>\n",
       "</table>\n",
       "</div>"
      ],
      "text/plain": [
       "   Unnamed: 0  RecipeId                                    Raw_Ingredients  \\\n",
       "0           0     71247  ['condensed milk', 'margarine', 'melted margar...   \n",
       "1           1     76133  ['corned beef', 'sauerkraut', 'swiss cheese', ...   \n",
       "2           2    503816  ['salt', 'sugar', 'all - purpose flour', 'vege...   \n",
       "3           3    418749  ['orange gelatin', 'instant vanilla pudding', ...   \n",
       "4           4    392934  ['salt', 'granulated sugar', 'butter', 'chocol...   \n",
       "\n",
       "                                 Cleaned_Ingredients  \n",
       "0  ['condensed milk', 'margarine', 'self-rising f...  \n",
       "1  ['corned beef', 'sauerkraut', 'swiss cheese', ...  \n",
       "2  ['salt', 'sugar', 'all - purpose flour', 'vege...  \n",
       "3  ['orange gelatin', 'instant vanilla pudding', ...  \n",
       "4  ['salt', 'granulated sugar', 'vanilla', 'choco...  "
      ]
     },
     "execution_count": 17,
     "metadata": {},
     "output_type": "execute_result"
    }
   ],
   "source": [
    "ingredients_df.head()"
   ]
  },
  {
   "cell_type": "code",
   "execution_count": 18,
   "metadata": {},
   "outputs": [
    {
     "name": "stdout",
     "output_type": "stream",
     "text": [
      "<class 'pandas.core.frame.DataFrame'>\n",
      "RangeIndex: 498317 entries, 0 to 498316\n",
      "Data columns (total 4 columns):\n",
      " #   Column               Non-Null Count   Dtype \n",
      "---  ------               --------------   ----- \n",
      " 0   Unnamed: 0           498317 non-null  int64 \n",
      " 1   RecipeId             498317 non-null  int64 \n",
      " 2   Raw_Ingredients      498317 non-null  object\n",
      " 3   Cleaned_Ingredients  498317 non-null  object\n",
      "dtypes: int64(2), object(2)\n",
      "memory usage: 15.2+ MB\n"
     ]
    }
   ],
   "source": [
    "ingredients_df.info()"
   ]
  },
  {
   "cell_type": "code",
   "execution_count": 19,
   "metadata": {},
   "outputs": [
    {
     "name": "stdout",
     "output_type": "stream",
     "text": [
      "<class 'pandas.core.frame.DataFrame'>\n",
      "RangeIndex: 498317 entries, 0 to 498316\n",
      "Data columns (total 4 columns):\n",
      " #   Column               Non-Null Count   Dtype \n",
      "---  ------               --------------   ----- \n",
      " 0   Unnamed: 0           498317 non-null  int64 \n",
      " 1   RecipeId             498317 non-null  int64 \n",
      " 2   Raw_Ingredients      498317 non-null  object\n",
      " 3   Cleaned_Ingredients  498317 non-null  object\n",
      "dtypes: int64(2), object(2)\n",
      "memory usage: 15.2+ MB\n"
     ]
    }
   ],
   "source": [
    "# Drop single ingredient recipes (There aren't any)\n",
    "ingredients_df = ingredients_df[ingredients_df['Cleaned_Ingredients'].apply(lambda x: len(x) > 1)].reset_index(drop = True)\n",
    "ingredients_df.info()"
   ]
  }
 ],
 "metadata": {
  "kernelspec": {
   "display_name": "Python 3",
   "language": "python",
   "name": "python3"
  },
  "language_info": {
   "codemirror_mode": {
    "name": "ipython",
    "version": 3
   },
   "file_extension": ".py",
   "mimetype": "text/x-python",
   "name": "python",
   "nbconvert_exporter": "python",
   "pygments_lexer": "ipython3",
   "version": "3.10.11"
  }
 },
 "nbformat": 4,
 "nbformat_minor": 2
}
