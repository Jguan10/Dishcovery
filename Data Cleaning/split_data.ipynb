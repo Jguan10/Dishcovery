{
 "cells": [
  {
   "cell_type": "markdown",
   "metadata": {},
   "source": [
    "Splitting the main dataset for deployment"
   ]
  },
  {
   "cell_type": "code",
   "execution_count": 4,
   "metadata": {},
   "outputs": [],
   "source": [
    "import pandas as pd\n",
    "import os"
   ]
  },
  {
   "cell_type": "code",
   "execution_count": 5,
   "metadata": {},
   "outputs": [
    {
     "name": "stdout",
     "output_type": "stream",
     "text": [
      "<class 'pandas.core.frame.DataFrame'>\n",
      "RangeIndex: 494949 entries, 0 to 494948\n",
      "Data columns (total 23 columns):\n",
      " #   Column                Non-Null Count   Dtype  \n",
      "---  ------                --------------   -----  \n",
      " 0   Unnamed: 0            494949 non-null  int64  \n",
      " 1   ID                    494949 non-null  int64  \n",
      " 2   Name                  494949 non-null  object \n",
      " 3   Description           485348 non-null  object \n",
      " 4   IngredientsExtracted  494949 non-null  object \n",
      " 5   IngredientsRaw        494949 non-null  object \n",
      " 6   serving_size          494949 non-null  object \n",
      " 7   Servings              494949 non-null  int64  \n",
      " 8   Instructions          494949 non-null  object \n",
      " 9   Tags                  494949 non-null  object \n",
      " 10  SearchTerms           494949 non-null  object \n",
      " 11  TotalTime             494949 non-null  int64  \n",
      " 12  Calories              494949 non-null  float64\n",
      " 13  FatContent            494949 non-null  float64\n",
      " 14  SaturatedFatContent   494949 non-null  float64\n",
      " 15  CholesterolContent    494949 non-null  float64\n",
      " 16  SodiumContent         494949 non-null  float64\n",
      " 17  CarbohydrateContent   494949 non-null  float64\n",
      " 18  FiberContent          494949 non-null  float64\n",
      " 19  SugarContent          494949 non-null  float64\n",
      " 20  ProteinContent        494949 non-null  float64\n",
      " 21  NLP_Ingredients       494949 non-null  object \n",
      " 22  CombinedInfo          494949 non-null  object \n",
      "dtypes: float64(9), int64(4), object(10)\n",
      "memory usage: 86.9+ MB\n"
     ]
    }
   ],
   "source": [
    "df = pd.read_csv('Data/recipes_food_com_combinedinfo.csv')\n",
    "df.info()"
   ]
  },
  {
   "cell_type": "code",
   "execution_count": 6,
   "metadata": {},
   "outputs": [
    {
     "name": "stdout",
     "output_type": "stream",
     "text": [
      "<class 'pandas.core.frame.DataFrame'>\n",
      "RangeIndex: 494949 entries, 0 to 494948\n",
      "Data columns (total 15 columns):\n",
      " #   Column               Non-Null Count   Dtype  \n",
      "---  ------               --------------   -----  \n",
      " 0   ID                   494949 non-null  int64  \n",
      " 1   Name                 494949 non-null  object \n",
      " 2   IngredientsRaw       494949 non-null  object \n",
      " 3   Instructions         494949 non-null  object \n",
      " 4   Calories             494949 non-null  float64\n",
      " 5   FatContent           494949 non-null  float64\n",
      " 6   SaturatedFatContent  494949 non-null  float64\n",
      " 7   CholesterolContent   494949 non-null  float64\n",
      " 8   SodiumContent        494949 non-null  float64\n",
      " 9   CarbohydrateContent  494949 non-null  float64\n",
      " 10  FiberContent         494949 non-null  float64\n",
      " 11  SugarContent         494949 non-null  float64\n",
      " 12  ProteinContent       494949 non-null  float64\n",
      " 13  NLP_Ingredients      494949 non-null  object \n",
      " 14  CombinedInfo         494949 non-null  object \n",
      "dtypes: float64(9), int64(1), object(5)\n",
      "memory usage: 56.6+ MB\n"
     ]
    }
   ],
   "source": [
    "df.drop(columns = [\"Description\",\"IngredientsExtracted\", \"Unnamed: 0\", \n",
    "        \"serving_size\", \"Servings\", \"Tags\", \"SearchTerms\", \"TotalTime\"], inplace = True)\n",
    "df.info()\n"
   ]
  },
  {
   "cell_type": "code",
   "execution_count": 7,
   "metadata": {},
   "outputs": [],
   "source": [
    "df1 = df[['ID', 'Name', 'IngredientsRaw', 'NLP_Ingredients', 'Calories', 'FatContent', 'SaturatedFatContent', \n",
    "            'CholesterolContent', 'SodiumContent', 'CarbohydrateContent', 'FiberContent',\n",
    "            'SugarContent', 'ProteinContent', 'CombinedInfo']]\n",
    "df2 = df[['ID', 'Instructions']]\n",
    "    "
   ]
  },
  {
   "cell_type": "code",
   "execution_count": 8,
   "metadata": {},
   "outputs": [
    {
     "name": "stdout",
     "output_type": "stream",
     "text": [
      "<class 'pandas.core.frame.DataFrame'>\n",
      "RangeIndex: 494949 entries, 0 to 494948\n",
      "Data columns (total 14 columns):\n",
      " #   Column               Non-Null Count   Dtype  \n",
      "---  ------               --------------   -----  \n",
      " 0   ID                   494949 non-null  int64  \n",
      " 1   Name                 494949 non-null  object \n",
      " 2   IngredientsRaw       494949 non-null  object \n",
      " 3   NLP_Ingredients      494949 non-null  object \n",
      " 4   Calories             494949 non-null  float64\n",
      " 5   FatContent           494949 non-null  float64\n",
      " 6   SaturatedFatContent  494949 non-null  float64\n",
      " 7   CholesterolContent   494949 non-null  float64\n",
      " 8   SodiumContent        494949 non-null  float64\n",
      " 9   CarbohydrateContent  494949 non-null  float64\n",
      " 10  FiberContent         494949 non-null  float64\n",
      " 11  SugarContent         494949 non-null  float64\n",
      " 12  ProteinContent       494949 non-null  float64\n",
      " 13  CombinedInfo         494949 non-null  object \n",
      "dtypes: float64(9), int64(1), object(4)\n",
      "memory usage: 52.9+ MB\n"
     ]
    }
   ],
   "source": [
    "df1.info()"
   ]
  },
  {
   "cell_type": "code",
   "execution_count": 9,
   "metadata": {},
   "outputs": [
    {
     "name": "stdout",
     "output_type": "stream",
     "text": [
      "<class 'pandas.core.frame.DataFrame'>\n",
      "RangeIndex: 494949 entries, 0 to 494948\n",
      "Data columns (total 2 columns):\n",
      " #   Column        Non-Null Count   Dtype \n",
      "---  ------        --------------   ----- \n",
      " 0   ID            494949 non-null  int64 \n",
      " 1   Instructions  494949 non-null  object\n",
      "dtypes: int64(1), object(1)\n",
      "memory usage: 7.6+ MB\n"
     ]
    }
   ],
   "source": [
    "df2.info()"
   ]
  },
  {
   "cell_type": "code",
   "execution_count": 13,
   "metadata": {},
   "outputs": [],
   "source": [
    "size = len(df2) // 3\n",
    "first = df1.iloc[:size]  \n",
    "second = df1.iloc[size:2*size]\n",
    "third = df1.iloc[2*size:]"
   ]
  },
  {
   "cell_type": "code",
   "execution_count": 14,
   "metadata": {},
   "outputs": [],
   "source": [
    "first.to_csv('revised_recipes_1_1.csv', index = False)\n",
    "second.to_csv('revised_recipes_1_2.csv', index = False)\n",
    "third.to_csv('revised_recipes_1_3.csv', index = False)"
   ]
  },
  {
   "cell_type": "code",
   "execution_count": 15,
   "metadata": {},
   "outputs": [],
   "source": [
    "size = len(df2) // 3\n",
    "first = df2.iloc[:size]  \n",
    "second = df2.iloc[size:2*size]\n",
    "third = df2.iloc[2*size:]"
   ]
  },
  {
   "cell_type": "code",
   "execution_count": 16,
   "metadata": {},
   "outputs": [],
   "source": [
    "first.to_csv('revised_recipes_2_1.csv', index = False)\n",
    "second.to_csv('revised_recipes_2_2.csv', index = False)\n",
    "third.to_csv('revised_recipes_2_3.csv', index = False)"
   ]
  },
  {
   "cell_type": "code",
   "execution_count": 17,
   "metadata": {},
   "outputs": [],
   "source": [
    "import zstandard as zstd"
   ]
  },
  {
   "cell_type": "code",
   "execution_count": 70,
   "metadata": {},
   "outputs": [],
   "source": [
    "input_file = \"revised_recipes_1_1.csv\"\n",
    "output_file = \"revised_recipes_1_1.csv.zst\"\n",
    "\n",
    "with open(input_file, \"rb\") as source_file:\n",
    "    data = source_file.read()\n",
    "\n",
    "compressor = zstd.ZstdCompressor(level=22)\n",
    "compressed_data = compressor.compress(data)\n",
    "\n",
    "with open(output_file, \"wb\") as compressed_file:\n",
    "    compressed_file.write(compressed_data)"
   ]
  },
  {
   "cell_type": "code",
   "execution_count": 71,
   "metadata": {},
   "outputs": [],
   "source": [
    "input_file = \"revised_recipes_1_2.csv\"\n",
    "output_file = \"revised_recipes_1_2.csv.zst\"\n",
    "\n",
    "with open(input_file, \"rb\") as source_file:\n",
    "    data = source_file.read()\n",
    "\n",
    "compressor = zstd.ZstdCompressor(level=22)\n",
    "compressed_data = compressor.compress(data)\n",
    "\n",
    "with open(output_file, \"wb\") as compressed_file:\n",
    "    compressed_file.write(compressed_data)"
   ]
  },
  {
   "cell_type": "code",
   "execution_count": null,
   "metadata": {},
   "outputs": [],
   "source": [
    "input_file = \"revised_recipes_1_3.csv\"\n",
    "output_file = \"revised_recipes_1_3.csv.zst\"\n",
    "\n",
    "with open(input_file, \"rb\") as source_file:\n",
    "    data = source_file.read()\n",
    "\n",
    "compressor = zstd.ZstdCompressor(level=22)\n",
    "compressed_data = compressor.compress(data)\n",
    "\n",
    "with open(output_file, \"wb\") as compressed_file:\n",
    "    compressed_file.write(compressed_data)"
   ]
  },
  {
   "cell_type": "code",
   "execution_count": 72,
   "metadata": {},
   "outputs": [],
   "source": [
    "input_file = \"revised_recipes_2_1.csv\"\n",
    "output_file = \"revised_recipes_2_1.csv.zst\"\n",
    "\n",
    "with open(input_file, \"rb\") as source_file:\n",
    "    data = source_file.read()\n",
    "\n",
    "compressor = zstd.ZstdCompressor(level=22)\n",
    "compressed_data = compressor.compress(data)\n",
    "\n",
    "with open(output_file, \"wb\") as compressed_file:\n",
    "    compressed_file.write(compressed_data)"
   ]
  },
  {
   "cell_type": "code",
   "execution_count": 73,
   "metadata": {},
   "outputs": [],
   "source": [
    "input_file = \"revised_recipes_2_2.csv\"\n",
    "output_file = \"revised_recipes_2_2.csv.zst\"\n",
    "\n",
    "with open(input_file, \"rb\") as source_file:\n",
    "    data = source_file.read()\n",
    "\n",
    "compressor = zstd.ZstdCompressor(level=22)\n",
    "compressed_data = compressor.compress(data)\n",
    "\n",
    "with open(output_file, \"wb\") as compressed_file:\n",
    "    compressed_file.write(compressed_data)"
   ]
  },
  {
   "cell_type": "code",
   "execution_count": 74,
   "metadata": {},
   "outputs": [],
   "source": [
    "input_file = \"revised_recipes_2_3.csv\"\n",
    "output_file = \"revised_recipes_2_3.csv.zst\"\n",
    "\n",
    "with open(input_file, \"rb\") as source_file:\n",
    "    data = source_file.read()\n",
    "\n",
    "compressor = zstd.ZstdCompressor(level=22)\n",
    "compressed_data = compressor.compress(data)\n",
    "\n",
    "with open(output_file, \"wb\") as compressed_file:\n",
    "    compressed_file.write(compressed_data)"
   ]
  }
 ],
 "metadata": {
  "kernelspec": {
   "display_name": "myenv",
   "language": "python",
   "name": "python3"
  },
  "language_info": {
   "codemirror_mode": {
    "name": "ipython",
    "version": 3
   },
   "file_extension": ".py",
   "mimetype": "text/x-python",
   "name": "python",
   "nbconvert_exporter": "python",
   "pygments_lexer": "ipython3",
   "version": "3.12.7"
  }
 },
 "nbformat": 4,
 "nbformat_minor": 2
}
