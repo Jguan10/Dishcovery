{
 "cells": [
  {
   "cell_type": "markdown",
   "metadata": {},
   "source": [
    "Splitting the main dataset for deployment"
   ]
  },
  {
   "cell_type": "code",
   "execution_count": 2,
   "metadata": {},
   "outputs": [],
   "source": [
    "import pandas as pd"
   ]
  },
  {
   "cell_type": "code",
   "execution_count": 3,
   "metadata": {},
   "outputs": [
    {
     "name": "stdout",
     "output_type": "stream",
     "text": [
      "<class 'pandas.core.frame.DataFrame'>\n",
      "RangeIndex: 494949 entries, 0 to 494948\n",
      "Data columns (total 17 columns):\n",
      " #   Column                Non-Null Count   Dtype  \n",
      "---  ------                --------------   -----  \n",
      " 0   ID                    494949 non-null  int64  \n",
      " 1   Name                  494949 non-null  object \n",
      " 2   Description           485348 non-null  object \n",
      " 3   IngredientsExtracted  494949 non-null  object \n",
      " 4   IngredientsRaw        494949 non-null  object \n",
      " 5   Instructions          494949 non-null  object \n",
      " 6   TotalTime             494949 non-null  int64  \n",
      " 7   Calories              494949 non-null  float64\n",
      " 8   FatContent            494949 non-null  float64\n",
      " 9   SaturatedFatContent   494949 non-null  float64\n",
      " 10  CholesterolContent    494949 non-null  float64\n",
      " 11  SodiumContent         494949 non-null  float64\n",
      " 12  CarbohydrateContent   494949 non-null  float64\n",
      " 13  FiberContent          494949 non-null  float64\n",
      " 14  SugarContent          494949 non-null  float64\n",
      " 15  ProteinContent        494949 non-null  float64\n",
      " 16  NLP_Ingredients       494949 non-null  object \n",
      "dtypes: float64(9), int64(2), object(6)\n",
      "memory usage: 64.2+ MB\n"
     ]
    }
   ],
   "source": [
    "df = pd.read_csv('Data/recipes_food_com_revised.csv')\n",
    "df.info()"
   ]
  },
  {
   "cell_type": "code",
   "execution_count": 4,
   "metadata": {},
   "outputs": [],
   "source": [
    "df.drop(columns = \"IngredientsExtracted\", inplace = True)\n"
   ]
  },
  {
   "cell_type": "code",
   "execution_count": null,
   "metadata": {},
   "outputs": [],
   "source": [
    "df1 = df[['ID', 'Name', 'Description', 'IngredientsRaw', 'NLP_Ingredients']]\n",
    "df2 = df[['ID', 'Instructions', 'TotalTime', 'Calories', 'FatContent', 'SaturatedFatContent', \n",
    "            'CholesterolContent', 'SodiumContent', 'CarbohydrateContent', 'FiberContent',\n",
    "            'SugarContent', 'ProteinContent']]\n",
    "    "
   ]
  },
  {
   "cell_type": "code",
   "execution_count": 6,
   "metadata": {},
   "outputs": [
    {
     "name": "stdout",
     "output_type": "stream",
     "text": [
      "<class 'pandas.core.frame.DataFrame'>\n",
      "RangeIndex: 494949 entries, 0 to 494948\n",
      "Data columns (total 6 columns):\n",
      " #   Column           Non-Null Count   Dtype \n",
      "---  ------           --------------   ----- \n",
      " 0   ID               494949 non-null  int64 \n",
      " 1   Name             494949 non-null  object\n",
      " 2   Description      485348 non-null  object\n",
      " 3   IngredientsRaw   494949 non-null  object\n",
      " 4   NLP_Ingredients  494949 non-null  object\n",
      " 5   Instructions     494949 non-null  object\n",
      "dtypes: int64(1), object(5)\n",
      "memory usage: 22.7+ MB\n"
     ]
    }
   ],
   "source": [
    "df1.info()"
   ]
  },
  {
   "cell_type": "code",
   "execution_count": 7,
   "metadata": {},
   "outputs": [
    {
     "name": "stdout",
     "output_type": "stream",
     "text": [
      "<class 'pandas.core.frame.DataFrame'>\n",
      "RangeIndex: 494949 entries, 0 to 494948\n",
      "Data columns (total 11 columns):\n",
      " #   Column               Non-Null Count   Dtype  \n",
      "---  ------               --------------   -----  \n",
      " 0   ID                   494949 non-null  int64  \n",
      " 1   TotalTime            494949 non-null  int64  \n",
      " 2   Calories             494949 non-null  float64\n",
      " 3   FatContent           494949 non-null  float64\n",
      " 4   SaturatedFatContent  494949 non-null  float64\n",
      " 5   CholesterolContent   494949 non-null  float64\n",
      " 6   SodiumContent        494949 non-null  float64\n",
      " 7   CarbohydrateContent  494949 non-null  float64\n",
      " 8   FiberContent         494949 non-null  float64\n",
      " 9   SugarContent         494949 non-null  float64\n",
      " 10  ProteinContent       494949 non-null  float64\n",
      "dtypes: float64(9), int64(2)\n",
      "memory usage: 41.5 MB\n"
     ]
    }
   ],
   "source": [
    "df2.info()"
   ]
  },
  {
   "cell_type": "code",
   "execution_count": null,
   "metadata": {},
   "outputs": [],
   "source": [
    "df1.to_csv('revised_recipes_1.csv', index = False)"
   ]
  },
  {
   "cell_type": "code",
   "execution_count": null,
   "metadata": {},
   "outputs": [],
   "source": [
    "df2.to_csv('revised_recipes_2.csv', index = False)"
   ]
  }
 ],
 "metadata": {
  "kernelspec": {
   "display_name": "myenv",
   "language": "python",
   "name": "python3"
  },
  "language_info": {
   "codemirror_mode": {
    "name": "ipython",
    "version": 3
   },
   "file_extension": ".py",
   "mimetype": "text/x-python",
   "name": "python",
   "nbconvert_exporter": "python",
   "pygments_lexer": "ipython3",
   "version": "3.12.7"
  }
 },
 "nbformat": 4,
 "nbformat_minor": 2
}
