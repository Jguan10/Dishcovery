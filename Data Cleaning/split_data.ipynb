{
 "cells": [
  {
   "cell_type": "markdown",
   "metadata": {},
   "source": [
    "Splitting the main dataset for deployment"
   ]
  },
  {
   "cell_type": "code",
   "execution_count": 59,
   "metadata": {},
   "outputs": [],
   "source": [
    "import pandas as pd\n",
    "import os"
   ]
  },
  {
   "cell_type": "code",
   "execution_count": 60,
   "metadata": {},
   "outputs": [
    {
     "name": "stdout",
     "output_type": "stream",
     "text": [
      "<class 'pandas.core.frame.DataFrame'>\n",
      "RangeIndex: 494949 entries, 0 to 494948\n",
      "Data columns (total 17 columns):\n",
      " #   Column                Non-Null Count   Dtype  \n",
      "---  ------                --------------   -----  \n",
      " 0   ID                    494949 non-null  int64  \n",
      " 1   Name                  494949 non-null  object \n",
      " 2   Description           485348 non-null  object \n",
      " 3   IngredientsExtracted  494949 non-null  object \n",
      " 4   IngredientsRaw        494949 non-null  object \n",
      " 5   Instructions          494949 non-null  object \n",
      " 6   TotalTime             494949 non-null  int64  \n",
      " 7   Calories              494949 non-null  float64\n",
      " 8   FatContent            494949 non-null  float64\n",
      " 9   SaturatedFatContent   494949 non-null  float64\n",
      " 10  CholesterolContent    494949 non-null  float64\n",
      " 11  SodiumContent         494949 non-null  float64\n",
      " 12  CarbohydrateContent   494949 non-null  float64\n",
      " 13  FiberContent          494949 non-null  float64\n",
      " 14  SugarContent          494949 non-null  float64\n",
      " 15  ProteinContent        494949 non-null  float64\n",
      " 16  NLP_Ingredients       494949 non-null  object \n",
      "dtypes: float64(9), int64(2), object(6)\n",
      "memory usage: 64.2+ MB\n"
     ]
    }
   ],
   "source": [
    "df = pd.read_csv('Data/recipes_food_com_revised.csv')\n",
    "df.info()"
   ]
  },
  {
   "cell_type": "code",
   "execution_count": 61,
   "metadata": {},
   "outputs": [],
   "source": [
    "df.drop(columns = \"IngredientsExtracted\", inplace = True)\n"
   ]
  },
  {
   "cell_type": "code",
   "execution_count": 62,
   "metadata": {},
   "outputs": [],
   "source": [
    "df1 = df[['ID', 'Name', 'IngredientsRaw', 'NLP_Ingredients', 'Calories', 'FatContent', 'SaturatedFatContent', \n",
    "            'CholesterolContent', 'SodiumContent', 'CarbohydrateContent', 'FiberContent',\n",
    "            'SugarContent', 'ProteinContent']]\n",
    "df2 = df[['ID', 'Instructions']]\n",
    "    "
   ]
  },
  {
   "cell_type": "code",
   "execution_count": 63,
   "metadata": {},
   "outputs": [
    {
     "name": "stdout",
     "output_type": "stream",
     "text": [
      "<class 'pandas.core.frame.DataFrame'>\n",
      "RangeIndex: 494949 entries, 0 to 494948\n",
      "Data columns (total 13 columns):\n",
      " #   Column               Non-Null Count   Dtype  \n",
      "---  ------               --------------   -----  \n",
      " 0   ID                   494949 non-null  int64  \n",
      " 1   Name                 494949 non-null  object \n",
      " 2   IngredientsRaw       494949 non-null  object \n",
      " 3   NLP_Ingredients      494949 non-null  object \n",
      " 4   Calories             494949 non-null  float64\n",
      " 5   FatContent           494949 non-null  float64\n",
      " 6   SaturatedFatContent  494949 non-null  float64\n",
      " 7   CholesterolContent   494949 non-null  float64\n",
      " 8   SodiumContent        494949 non-null  float64\n",
      " 9   CarbohydrateContent  494949 non-null  float64\n",
      " 10  FiberContent         494949 non-null  float64\n",
      " 11  SugarContent         494949 non-null  float64\n",
      " 12  ProteinContent       494949 non-null  float64\n",
      "dtypes: float64(9), int64(1), object(3)\n",
      "memory usage: 49.1+ MB\n"
     ]
    }
   ],
   "source": [
    "df1.info()"
   ]
  },
  {
   "cell_type": "code",
   "execution_count": 64,
   "metadata": {},
   "outputs": [
    {
     "name": "stdout",
     "output_type": "stream",
     "text": [
      "<class 'pandas.core.frame.DataFrame'>\n",
      "RangeIndex: 494949 entries, 0 to 494948\n",
      "Data columns (total 2 columns):\n",
      " #   Column        Non-Null Count   Dtype \n",
      "---  ------        --------------   ----- \n",
      " 0   ID            494949 non-null  int64 \n",
      " 1   Instructions  494949 non-null  object\n",
      "dtypes: int64(1), object(1)\n",
      "memory usage: 7.6+ MB\n"
     ]
    }
   ],
   "source": [
    "df2.info()"
   ]
  },
  {
   "cell_type": "code",
   "execution_count": 65,
   "metadata": {},
   "outputs": [],
   "source": [
    "midpoint = len(df1) // 2\n",
    "first_half = df1.iloc[:midpoint]  \n",
    "second_half = df1.iloc[midpoint:]"
   ]
  },
  {
   "cell_type": "code",
   "execution_count": 66,
   "metadata": {},
   "outputs": [],
   "source": [
    "first_half.to_csv('revised_recipes_1_1.csv', index = False)\n",
    "second_half.to_csv('revised_recipes_1_2.csv', index = False)"
   ]
  },
  {
   "cell_type": "code",
   "execution_count": 67,
   "metadata": {},
   "outputs": [],
   "source": [
    "size = len(df2) // 3\n",
    "first = df2.iloc[:size]  \n",
    "second = df2.iloc[size:2*size]\n",
    "third = df2.iloc[2*size:]"
   ]
  },
  {
   "cell_type": "code",
   "execution_count": 68,
   "metadata": {},
   "outputs": [],
   "source": [
    "first.to_csv('revised_recipes_2_1.csv', index = False)\n",
    "second.to_csv('revised_recipes_2_2.csv', index = False)\n",
    "third.to_csv('revised_recipes_2_3.csv', index = False)"
   ]
  },
  {
   "cell_type": "code",
   "execution_count": 69,
   "metadata": {},
   "outputs": [],
   "source": [
    "import zstandard as zstd"
   ]
  },
  {
   "cell_type": "code",
   "execution_count": 70,
   "metadata": {},
   "outputs": [],
   "source": [
    "input_file = \"revised_recipes_1_1.csv\"\n",
    "output_file = \"revised_recipes_1_1.csv.zst\"\n",
    "\n",
    "with open(input_file, \"rb\") as source_file:\n",
    "    data = source_file.read()\n",
    "\n",
    "compressor = zstd.ZstdCompressor(level=22)\n",
    "compressed_data = compressor.compress(data)\n",
    "\n",
    "with open(output_file, \"wb\") as compressed_file:\n",
    "    compressed_file.write(compressed_data)"
   ]
  },
  {
   "cell_type": "code",
   "execution_count": 71,
   "metadata": {},
   "outputs": [],
   "source": [
    "input_file = \"revised_recipes_1_2.csv\"\n",
    "output_file = \"revised_recipes_1_2.csv.zst\"\n",
    "\n",
    "with open(input_file, \"rb\") as source_file:\n",
    "    data = source_file.read()\n",
    "\n",
    "compressor = zstd.ZstdCompressor(level=22)\n",
    "compressed_data = compressor.compress(data)\n",
    "\n",
    "with open(output_file, \"wb\") as compressed_file:\n",
    "    compressed_file.write(compressed_data)"
   ]
  },
  {
   "cell_type": "code",
   "execution_count": 72,
   "metadata": {},
   "outputs": [],
   "source": [
    "input_file = \"revised_recipes_2_1.csv\"\n",
    "output_file = \"revised_recipes_2_1.csv.zst\"\n",
    "\n",
    "with open(input_file, \"rb\") as source_file:\n",
    "    data = source_file.read()\n",
    "\n",
    "compressor = zstd.ZstdCompressor(level=22)\n",
    "compressed_data = compressor.compress(data)\n",
    "\n",
    "with open(output_file, \"wb\") as compressed_file:\n",
    "    compressed_file.write(compressed_data)"
   ]
  },
  {
   "cell_type": "code",
   "execution_count": 73,
   "metadata": {},
   "outputs": [],
   "source": [
    "input_file = \"revised_recipes_2_2.csv\"\n",
    "output_file = \"revised_recipes_2_2.csv.zst\"\n",
    "\n",
    "with open(input_file, \"rb\") as source_file:\n",
    "    data = source_file.read()\n",
    "\n",
    "compressor = zstd.ZstdCompressor(level=22)\n",
    "compressed_data = compressor.compress(data)\n",
    "\n",
    "with open(output_file, \"wb\") as compressed_file:\n",
    "    compressed_file.write(compressed_data)"
   ]
  },
  {
   "cell_type": "code",
   "execution_count": 74,
   "metadata": {},
   "outputs": [],
   "source": [
    "input_file = \"revised_recipes_2_3.csv\"\n",
    "output_file = \"revised_recipes_2_3.csv.zst\"\n",
    "\n",
    "with open(input_file, \"rb\") as source_file:\n",
    "    data = source_file.read()\n",
    "\n",
    "compressor = zstd.ZstdCompressor(level=22)\n",
    "compressed_data = compressor.compress(data)\n",
    "\n",
    "with open(output_file, \"wb\") as compressed_file:\n",
    "    compressed_file.write(compressed_data)"
   ]
  }
 ],
 "metadata": {
  "kernelspec": {
   "display_name": "myenv",
   "language": "python",
   "name": "python3"
  },
  "language_info": {
   "codemirror_mode": {
    "name": "ipython",
    "version": 3
   },
   "file_extension": ".py",
   "mimetype": "text/x-python",
   "name": "python",
   "nbconvert_exporter": "python",
   "pygments_lexer": "ipython3",
   "version": "3.12.7"
  }
 },
 "nbformat": 4,
 "nbformat_minor": 2
}
