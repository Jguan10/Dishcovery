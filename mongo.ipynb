{
 "cells": [
  {
   "cell_type": "markdown",
   "metadata": {},
   "source": [
    "Add nutrition dataset into mongodb"
   ]
  },
  {
   "cell_type": "markdown",
   "metadata": {},
   "source": [
    "# DO NOT RUN THIS DOCUMENT!!!!"
   ]
  },
  {
   "cell_type": "code",
   "execution_count": null,
   "metadata": {},
   "outputs": [],
   "source": [
    "%pip install \"pymongo[srv]\"==3.12"
   ]
  },
  {
   "cell_type": "code",
   "execution_count": null,
   "metadata": {},
   "outputs": [
    {
     "name": "stdout",
     "output_type": "stream",
     "text": [
      "Pinged your deployment. You successfully connected to MongoDB!\n"
     ]
    }
   ],
   "source": [
    "from pymongo.mongo_client import MongoClient\n",
    "\n",
    "client = MongoClient(uri)\n",
    "try:\n",
    "    client.admin.command('ping')\n",
    "    print(\"Pinged your deployment. You successfully connected to MongoDB!\")\n",
    "except Exception as e:\n",
    "    print(e)"
   ]
  },
  {
   "cell_type": "code",
   "execution_count": 2,
   "metadata": {},
   "outputs": [],
   "source": [
    "db = client['Dishcovery']\n",
    "collection = db['Nutrition']"
   ]
  },
  {
   "cell_type": "code",
   "execution_count": 5,
   "metadata": {},
   "outputs": [
    {
     "name": "stdout",
     "output_type": "stream",
     "text": [
      "Collecting pandas\n",
      "  Downloading pandas-2.2.3-cp312-cp312-win_amd64.whl.metadata (19 kB)\n",
      "Collecting numpy>=1.26.0 (from pandas)\n",
      "  Downloading numpy-2.1.3-cp312-cp312-win_amd64.whl.metadata (60 kB)\n",
      "Requirement already satisfied: python-dateutil>=2.8.2 in c:\\users\\jason\\documents\\github\\dishcovery\\myenv\\lib\\site-packages (from pandas) (2.9.0.post0)\n",
      "Collecting pytz>=2020.1 (from pandas)\n",
      "  Using cached pytz-2024.2-py2.py3-none-any.whl.metadata (22 kB)\n",
      "Collecting tzdata>=2022.7 (from pandas)\n",
      "  Using cached tzdata-2024.2-py2.py3-none-any.whl.metadata (1.4 kB)\n",
      "Requirement already satisfied: six>=1.5 in c:\\users\\jason\\documents\\github\\dishcovery\\myenv\\lib\\site-packages (from python-dateutil>=2.8.2->pandas) (1.16.0)\n",
      "Downloading pandas-2.2.3-cp312-cp312-win_amd64.whl (11.5 MB)\n",
      "   ---------------------------------------- 0.0/11.5 MB ? eta -:--:--\n",
      "   ----- ---------------------------------- 1.6/11.5 MB 8.3 MB/s eta 0:00:02\n",
      "   ----------- ---------------------------- 3.4/11.5 MB 8.4 MB/s eta 0:00:01\n",
      "   ------------------ --------------------- 5.2/11.5 MB 8.6 MB/s eta 0:00:01\n",
      "   ------------------------ --------------- 7.1/11.5 MB 8.6 MB/s eta 0:00:01\n",
      "   ------------------------------ --------- 8.9/11.5 MB 8.5 MB/s eta 0:00:01\n",
      "   ------------------------------------- -- 10.7/11.5 MB 8.5 MB/s eta 0:00:01\n",
      "   ---------------------------------------- 11.5/11.5 MB 8.4 MB/s eta 0:00:00\n",
      "Downloading numpy-2.1.3-cp312-cp312-win_amd64.whl (12.6 MB)\n",
      "   ---------------------------------------- 0.0/12.6 MB ? eta -:--:--\n",
      "   ----- ---------------------------------- 1.8/12.6 MB 9.1 MB/s eta 0:00:02\n",
      "   ----------- ---------------------------- 3.7/12.6 MB 8.7 MB/s eta 0:00:02\n",
      "   ----------------- ---------------------- 5.5/12.6 MB 8.8 MB/s eta 0:00:01\n",
      "   ----------------------- ---------------- 7.3/12.6 MB 8.9 MB/s eta 0:00:01\n",
      "   ----------------------------- ---------- 9.2/12.6 MB 8.8 MB/s eta 0:00:01\n",
      "   ----------------------------------- ---- 11.0/12.6 MB 8.7 MB/s eta 0:00:01\n",
      "   ---------------------------------------  12.3/12.6 MB 8.7 MB/s eta 0:00:01\n",
      "   ---------------------------------------- 12.6/12.6 MB 8.5 MB/s eta 0:00:00\n",
      "Using cached pytz-2024.2-py2.py3-none-any.whl (508 kB)\n",
      "Using cached tzdata-2024.2-py2.py3-none-any.whl (346 kB)\n",
      "Installing collected packages: pytz, tzdata, numpy, pandas\n",
      "Successfully installed numpy-2.1.3 pandas-2.2.3 pytz-2024.2 tzdata-2024.2\n",
      "Note: you may need to restart the kernel to use updated packages.\n"
     ]
    },
    {
     "name": "stderr",
     "output_type": "stream",
     "text": [
      "\n",
      "[notice] A new release of pip is available: 24.2 -> 24.3.1\n",
      "[notice] To update, run: python.exe -m pip install --upgrade pip\n"
     ]
    }
   ],
   "source": [
    "%pip install pandas"
   ]
  },
  {
   "cell_type": "code",
   "execution_count": 23,
   "metadata": {},
   "outputs": [],
   "source": [
    "import pandas as pd\n",
    "\n",
    "df = pd.read_csv('Data/cleaned_nutrition.csv', low_memory = False)\n",
    "data = df.to_dict(orient = 'records')\n",
    "\n",
    "values_to_remove = [None, \"0.0 mg\", \"0.0 ug\", \"0.0 g\", \"0.0 iu\", \"0.0 kcal\", \"0.0 dv\"]\n",
    "\n",
    "for document in data:\n",
    "    fields_to_remove = {k: \"\" for k, v in document.items() if pd.isna(v) or v in values_to_remove}\n",
    "    \n",
    "    if fields_to_remove:\n",
    "        for field in fields_to_remove:\n",
    "            document.pop(field, None)\n",
    "\n",
    "    collection.insert_one(document)"
   ]
  },
  {
   "cell_type": "code",
   "execution_count": null,
   "metadata": {},
   "outputs": [],
   "source": [
    "for index, document in enumerate(data):\n",
    "    collection.insert_one(document)"
   ]
  },
  {
   "cell_type": "code",
   "execution_count": 5,
   "metadata": {},
   "outputs": [
    {
     "name": "stdout",
     "output_type": "stream",
     "text": [
      "{'_id': ObjectId('674fb6651d07e00f913b7657'), 'Item_Name': 'Pillsbury, Cinnamon Rolls with Icing, refrigerated dough', 'Protein': '4.34 g', 'Ash': '3.08 g', 'Fiber, total dietary': '1.4 g', 'Iron, Fe': '1.93 mg', 'Sodium, Na': '780.0 mg', 'Cholesterol': '0.0 mg', 'Fatty acids, total trans': '4.29 g', 'Fatty acids, total saturated': '3.25 g', 'Total lipid (fat)': '11.27 g', 'Carbohydrate, by difference': '53.42 g', 'Energy': '330.0 kcal', 'Water': '27.86 g', 'Sugars, total including NLEA': '21.34 g', 'Vitamin A, IU': '1.0 iu', 'Vitamin C, total ascorbic acid': '0.1 mg', 'Calcium, Ca': '28.0 mg', 'Folate, total': nan, 'Fatty acids, total monounsaturated': nan, 'Fatty acids, total polyunsaturated': nan, 'Riboflavin': nan, 'Vitamin B-12': nan, 'Vitamin K (phylloquinone)': nan, 'Thiamin': nan, 'Magnesium, Mg': nan, 'Phosphorus, P': nan, 'Copper, Cu': nan, 'Manganese, Mn': nan, 'Potassium, K': nan, 'Zinc, Zn': nan, 'Selenium, Se': nan, 'Niacin': nan, 'Pantothenic acid': nan, 'Vitamin B-6': nan, 'Folic acid': nan, 'Vitamin D (D2 + D3), International Units': nan, 'Fiber, insoluble': nan, 'Sugars, added': nan}\n",
      "{'_id': ObjectId('674fb6651d07e00f913b7658'), 'Item_Name': 'Pie Crust, Cookie-type, Chocolate, Ready Crust', 'Protein': '6.08 g', 'Ash': '2.03 g', 'Fiber, total dietary': '2.7 g', 'Iron, Fe': '4.3 mg', 'Sodium, Na': '503.0 mg', 'Cholesterol': '0.0 mg', 'Fatty acids, total trans': '0.0 g', 'Fatty acids, total saturated': '4.725 g', 'Total lipid (fat)': '22.42 g', 'Carbohydrate, by difference': '64.48 g', 'Energy': '484.0 kcal', 'Water': '4.99 g', 'Sugars, total including NLEA': '26.31 g', 'Vitamin A, IU': '0.0 iu', 'Vitamin C, total ascorbic acid': '0.0 mg', 'Calcium, Ca': '32.0 mg', 'Folate, total': '72.0 ug', 'Fatty acids, total monounsaturated': '14.482 g', 'Fatty acids, total polyunsaturated': '2.035 g', 'Riboflavin': '0.265 mg', 'Vitamin B-12': '0.0 ug', 'Vitamin K (phylloquinone)': '18.2 ug', 'Thiamin': '0.336 mg', 'Magnesium, Mg': '40.0 mg', 'Phosphorus, P': '120.0 mg', 'Copper, Cu': '0.77 mg', 'Manganese, Mn': '1.833 mg', 'Potassium, K': '187.0 mg', 'Zinc, Zn': '2.1 mg', 'Selenium, Se': '2.5 ug', 'Niacin': '3.073 mg', 'Pantothenic acid': '0.168 mg', 'Vitamin B-6': '0.043 mg', 'Folic acid': '50.0 ug', 'Vitamin D (D2 + D3), International Units': '0.0 iu', 'Fiber, insoluble': nan, 'Sugars, added': nan}\n",
      "{'_id': ObjectId('674fb6651d07e00f913b7659'), 'Item_Name': 'Waffles, chocolate chip, frozen, ready-to-heat', 'Protein': '5.8 g', 'Ash': '2.8 g', 'Fiber, total dietary': '1.5 g', 'Iron, Fe': '6.4 mg', 'Sodium, Na': '529.0 mg', 'Cholesterol': '21.0 mg', 'Fatty acids, total trans': '0.2 g', 'Fatty acids, total saturated': '3.567 g', 'Total lipid (fat)': '10.1 g', 'Carbohydrate, by difference': '45.68 g', 'Energy': '297.0 kcal', 'Water': '35.62 g', 'Sugars, total including NLEA': '13.1 g', 'Vitamin A, IU': '1,429.0 iu', 'Vitamin C, total ascorbic acid': '0.0 mg', 'Calcium, Ca': '357.0 mg', 'Folate, total': '75.0 ug', 'Fatty acids, total monounsaturated': '2.564 g', 'Fatty acids, total polyunsaturated': '3.272 g', 'Riboflavin': '0.49 mg', 'Vitamin B-12': '1.7 ug', 'Vitamin K (phylloquinone)': '9.3 ug', 'Thiamin': '0.43 mg', 'Magnesium, Mg': '16.0 mg', 'Phosphorus, P': '272.0 mg', 'Copper, Cu': '0.221 mg', 'Manganese, Mn': '0.393 mg', 'Potassium, K': '74.0 mg', 'Zinc, Zn': '0.4 mg', 'Selenium, Se': '13.1 ug', 'Niacin': '5.7 mg', 'Pantothenic acid': '0.218 mg', 'Vitamin B-6': '0.57 mg', 'Folic acid': '59.0 ug', 'Vitamin D (D2 + D3), International Units': '2.0 iu', 'Fiber, insoluble': nan, 'Sugars, added': nan}\n",
      "{'_id': ObjectId('674fb6651d07e00f913b765a'), 'Item_Name': 'Bread, salvadoran sweet cheese (quesadilla salvadorena)', 'Protein': '7.12 g', 'Ash': '2.44 g', 'Fiber, total dietary': '0.7 g', 'Iron, Fe': '0.98 mg', 'Sodium, Na': '510.0 mg', 'Cholesterol': '59.0 mg', 'Fatty acids, total trans': '2.027 g', 'Fatty acids, total saturated': '4.612 g', 'Total lipid (fat)': '17.12 g', 'Carbohydrate, by difference': '47.84 g', 'Energy': '374.0 kcal', 'Water': '25.48 g', 'Sugars, total including NLEA': '24.9 g', 'Vitamin A, IU': '584.0 iu', 'Vitamin C, total ascorbic acid': '0.0 mg', 'Calcium, Ca': '73.0 mg', 'Folate, total': '33.0 ug', 'Fatty acids, total monounsaturated': '6.794 g', 'Fatty acids, total polyunsaturated': '4.428 g', 'Riboflavin': '0.08 mg', 'Vitamin B-12': '0.35 ug', 'Vitamin K (phylloquinone)': '11.2 ug', 'Thiamin': '0.02 mg', 'Magnesium, Mg': '11.0 mg', 'Phosphorus, P': '200.0 mg', 'Copper, Cu': '0.03 mg', 'Manganese, Mn': '0.24 mg', 'Potassium, K': '350.0 mg', 'Zinc, Zn': '0.8 mg', 'Selenium, Se': '13.3 ug', 'Niacin': '1.2 mg', 'Pantothenic acid': '0.7 mg', 'Vitamin B-6': '0.04 mg', 'Folic acid': '21.0 ug', 'Vitamin D (D2 + D3), International Units': '14.0 iu', 'Fiber, insoluble': nan, 'Sugars, added': nan}\n",
      "{'_id': ObjectId('674fb6651d07e00f913b765b'), 'Item_Name': 'Pastry, Pastelitos de Guava (guava pastries)', 'Protein': '5.48 g', 'Ash': '0.99 g', 'Fiber, total dietary': '2.2 g', 'Iron, Fe': '2.12 mg', 'Sodium, Na': '231.0 mg', 'Cholesterol': '10.0 mg', 'Fatty acids, total trans': '2.853 g', 'Fatty acids, total saturated': '5.535 g', 'Total lipid (fat)': '18.5 g', 'Carbohydrate, by difference': '47.76 g', 'Energy': '379.0 kcal', 'Water': '27.26 g', 'Sugars, total including NLEA': '17.0 g', 'Vitamin A, IU': nan, 'Vitamin C, total ascorbic acid': nan, 'Calcium, Ca': '14.0 mg', 'Folate, total': nan, 'Fatty acids, total monounsaturated': '8.543 g', 'Fatty acids, total polyunsaturated': '2.835 g', 'Riboflavin': '0.117 mg', 'Vitamin B-12': nan, 'Vitamin K (phylloquinone)': '12.5 ug', 'Thiamin': '0.19 mg', 'Magnesium, Mg': '15.0 mg', 'Phosphorus, P': '56.0 mg', 'Copper, Cu': '0.079 mg', 'Manganese, Mn': '0.265 mg', 'Potassium, K': '103.0 mg', 'Zinc, Zn': '0.42 mg', 'Selenium, Se': '17.5 ug', 'Niacin': '2.493 mg', 'Pantothenic acid': '0.27 mg', 'Vitamin B-6': '0.053 mg', 'Folic acid': nan, 'Vitamin D (D2 + D3), International Units': nan, 'Fiber, insoluble': nan, 'Sugars, added': nan}\n"
     ]
    }
   ],
   "source": [
    "for doc in collection.find().limit(5):\n",
    "    print(doc)"
   ]
  },
  {
   "cell_type": "code",
   "execution_count": 12,
   "metadata": {},
   "outputs": [
    {
     "name": "stdout",
     "output_type": "stream",
     "text": [
      "{'_id': ObjectId('674fb6651d07e00f913b7657'), 'Item_Name': 'Pillsbury, Cinnamon Rolls with Icing, refrigerated dough', 'Protein': '4.34 g', 'Ash': '3.08 g', 'Fiber, total dietary': '1.4 g', 'Iron, Fe': '1.93 mg', 'Sodium, Na': '780.0 mg', 'Fatty acids, total trans': '4.29 g', 'Fatty acids, total saturated': '3.25 g', 'Total lipid (fat)': '11.27 g', 'Carbohydrate, by difference': '53.42 g', 'Energy': '330.0 kcal', 'Water': '27.86 g', 'Sugars, total including NLEA': '21.34 g', 'Vitamin A, IU': '1.0 iu', 'Vitamin C, total ascorbic acid': '0.1 mg', 'Calcium, Ca': '28.0 mg', 'Folate, total': nan, 'Fatty acids, total monounsaturated': nan, 'Fatty acids, total polyunsaturated': nan, 'Riboflavin': nan, 'Vitamin B-12': nan, 'Vitamin K (phylloquinone)': nan, 'Thiamin': nan, 'Magnesium, Mg': nan, 'Phosphorus, P': nan, 'Copper, Cu': nan, 'Manganese, Mn': nan, 'Potassium, K': nan, 'Zinc, Zn': nan, 'Selenium, Se': nan, 'Niacin': nan, 'Pantothenic acid': nan, 'Vitamin B-6': nan, 'Folic acid': nan, 'Vitamin D (D2 + D3), International Units': nan, 'Fiber, insoluble': nan, 'Sugars, added': nan}\n"
     ]
    }
   ],
   "source": [
    "for doc in collection.find().limit(5):\n",
    "    print(doc)"
   ]
  },
  {
   "cell_type": "code",
   "execution_count": 22,
   "metadata": {},
   "outputs": [
    {
     "data": {
      "text/plain": [
       "<pymongo.results.DeleteResult at 0x18117579200>"
      ]
     },
     "execution_count": 22,
     "metadata": {},
     "output_type": "execute_result"
    }
   ],
   "source": [
    "collection.delete_many({})"
   ]
  }
 ],
 "metadata": {
  "kernelspec": {
   "display_name": "myenv",
   "language": "python",
   "name": "python3"
  },
  "language_info": {
   "codemirror_mode": {
    "name": "ipython",
    "version": 3
   },
   "file_extension": ".py",
   "mimetype": "text/x-python",
   "name": "python",
   "nbconvert_exporter": "python",
   "pygments_lexer": "ipython3",
   "version": "3.12.7"
  }
 },
 "nbformat": 4,
 "nbformat_minor": 2
}
