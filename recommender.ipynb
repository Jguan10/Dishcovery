{
 "cells": [
  {
   "cell_type": "markdown",
   "metadata": {},
   "source": [
    "# Recommender Model"
   ]
  },
  {
   "cell_type": "code",
   "execution_count": 24,
   "metadata": {},
   "outputs": [],
   "source": [
    "import pandas as pd\n",
    "import numpy as np\n",
    "from sklearn.neighbors import NearestNeighbors\n",
    "import scipy.sparse\n",
    "import pickle"
   ]
  },
  {
   "cell_type": "code",
   "execution_count": 25,
   "metadata": {},
   "outputs": [],
   "source": [
    "# load precomputed tfidf matrix and vectorizer\n",
    "tfidf_matrix = scipy.sparse.load_npz('models/tfidf_matrix.npz')\n",
    "with open('models/tfidf_vectorizer.pkl', 'rb') as f:\n",
    "    vectorizer = pickle.load(f)\n",
    "data = pd.read_csv('Datasets/recipes_food_com.csv')"
   ]
  },
  {
   "cell_type": "code",
   "execution_count": 30,
   "metadata": {},
   "outputs": [],
   "source": [
    "# Initialize NearestNeighbors model and fit on the tfidf_matrix\n",
    "nearest_neighbors = NearestNeighbors(metric='cosine', algorithm='brute')\n",
    "nearest_neighbors.fit(tfidf_matrix)\n",
    "\n",
    "def recommend(ingredients_list, top_n=5):\n",
    "    # Transform the user's input ingredients into the vector space\n",
    "    user_vector = vectorizer.transform([ingredients_list])\n",
    "    \n",
    "    # Find the top N nearest neighbors\n",
    "    distances, indices = nearest_neighbors.kneighbors(user_vector, n_neighbors=top_n)\n",
    "    \n",
    "    # Retrieve recommended recipes and their similarity scores\n",
    "    recommendations = data.iloc[indices[0]].copy()\n",
    "    recommendations['Similarity'] = 1 - distances[0]  # Similarity = 1 - distance (cosine)\n",
    "    \n",
    "    return recommendations[['Name', 'Similarity', 'IngredientsExtracted']]\n"
   ]
  },
  {
   "cell_type": "code",
   "execution_count": 31,
   "metadata": {},
   "outputs": [
    {
     "data": {
      "text/html": [
       "<div>\n",
       "<style scoped>\n",
       "    .dataframe tbody tr th:only-of-type {\n",
       "        vertical-align: middle;\n",
       "    }\n",
       "\n",
       "    .dataframe tbody tr th {\n",
       "        vertical-align: top;\n",
       "    }\n",
       "\n",
       "    .dataframe thead th {\n",
       "        text-align: right;\n",
       "    }\n",
       "</style>\n",
       "<table border=\"1\" class=\"dataframe\">\n",
       "  <thead>\n",
       "    <tr style=\"text-align: right;\">\n",
       "      <th></th>\n",
       "      <th>Name</th>\n",
       "      <th>Similarity</th>\n",
       "      <th>IngredientsExtracted</th>\n",
       "    </tr>\n",
       "  </thead>\n",
       "  <tbody>\n",
       "    <tr>\n",
       "      <th>404267</th>\n",
       "      <td>Fred's Favorite Meatloaf</td>\n",
       "      <td>0.674316</td>\n",
       "      <td>ground beef bread onion tomato sauce</td>\n",
       "    </tr>\n",
       "    <tr>\n",
       "      <th>86138</th>\n",
       "      <td>Hamburger Soup (Real Comfort Food!)</td>\n",
       "      <td>0.592830</td>\n",
       "      <td>ground beef beef carrot salt pepper</td>\n",
       "    </tr>\n",
       "    <tr>\n",
       "      <th>434974</th>\n",
       "      <td>Vegan Energizing Juice for Juicer</td>\n",
       "      <td>0.561279</td>\n",
       "      <td>carrot</td>\n",
       "    </tr>\n",
       "    <tr>\n",
       "      <th>108704</th>\n",
       "      <td>Honey -Bourbon Glazed Carrots</td>\n",
       "      <td>0.561279</td>\n",
       "      <td>carrot</td>\n",
       "    </tr>\n",
       "    <tr>\n",
       "      <th>427040</th>\n",
       "      <td>Brown Windsor Beef Soup</td>\n",
       "      <td>0.549752</td>\n",
       "      <td>onion carrot beef beef broth parsley chopped</td>\n",
       "    </tr>\n",
       "  </tbody>\n",
       "</table>\n",
       "</div>"
      ],
      "text/plain": [
       "                                       Name  Similarity  \\\n",
       "404267             Fred's Favorite Meatloaf    0.674316   \n",
       "86138   Hamburger Soup (Real Comfort Food!)    0.592830   \n",
       "434974    Vegan Energizing Juice for Juicer    0.561279   \n",
       "108704        Honey -Bourbon Glazed Carrots    0.561279   \n",
       "427040              Brown Windsor Beef Soup    0.549752   \n",
       "\n",
       "                                IngredientsExtracted  \n",
       "404267          ground beef bread onion tomato sauce  \n",
       "86138            ground beef beef carrot salt pepper  \n",
       "434974                                        carrot  \n",
       "108704                                        carrot  \n",
       "427040  onion carrot beef beef broth parsley chopped  "
      ]
     },
     "execution_count": 31,
     "metadata": {},
     "output_type": "execute_result"
    }
   ],
   "source": [
    "ingredients_list = 'tomato bread beef carrot'\n",
    "\n",
    "recommend(ingredients_list)"
   ]
  }
 ],
 "metadata": {
  "kernelspec": {
   "display_name": "base",
   "language": "python",
   "name": "python3"
  },
  "language_info": {
   "codemirror_mode": {
    "name": "ipython",
    "version": 3
   },
   "file_extension": ".py",
   "mimetype": "text/x-python",
   "name": "python",
   "nbconvert_exporter": "python",
   "pygments_lexer": "ipython3",
   "version": "3.11.5"
  }
 },
 "nbformat": 4,
 "nbformat_minor": 2
}
