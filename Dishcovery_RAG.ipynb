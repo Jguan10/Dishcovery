{
 "cells": [
  {
   "cell_type": "markdown",
   "metadata": {
    "id": "Y6qVx1U0Ipv0"
   },
   "source": [
    "https://medium.com/@mrunmayee.dhapre/book-recommendation-using-retrieval-augmented-generation-52965b71ed16"
   ]
  },
  {
   "cell_type": "code",
   "execution_count": 1,
   "metadata": {
    "colab": {
     "base_uri": "https://localhost:8080/"
    },
    "id": "p0klShGopZ53",
    "outputId": "8af7bb75-8694-4d9b-fa18-fc4fa3f4189c"
   },
   "outputs": [
    {
     "name": "stdout",
     "output_type": "stream",
     "text": [
      "^C\n",
      "Note: you may need to restart the kernel to use updated packages.\n"
     ]
    }
   ],
   "source": [
    "%pip install langchain langchain-community faiss-cpu langchain-huggingface"
   ]
  },
  {
   "cell_type": "code",
   "execution_count": 4,
   "metadata": {
    "id": "Y7-R6DB8rhao"
   },
   "outputs": [],
   "source": [
    "import pandas as pd\n",
    "from langchain.vectorstores import FAISS\n",
    "from langchain.document_loaders.csv_loader import CSVLoader\n",
    "from langchain.text_splitter import CharacterTextSplitter\n",
    "from langchain.embeddings import HuggingFaceEmbeddings\n",
    "from langchain_community.llms import HuggingFacePipeline\n",
    "from langchain_huggingface import HuggingFaceEndpoint\n",
    "from langchain_core.output_parsers import StrOutputParser\n",
    "from langchain_core.runnables import RunnablePassthrough\n",
    "from langchain.chains import LLMChain\n",
    "from langchain.prompts import PromptTemplate"
   ]
  },
  {
   "cell_type": "code",
   "execution_count": 5,
   "metadata": {},
   "outputs": [],
   "source": [
    "df = pd.read_csv('Data/recipes_food_com_cleaned.csv')"
   ]
  },
  {
   "cell_type": "code",
   "execution_count": null,
   "metadata": {
    "id": "kd_bpqHa6VeO"
   },
   "outputs": [],
   "source": [
    "# subset = ['ID','Name', 'Description','Raw_Ingredients','Instructions']\n",
    "# df = df[subset]\n",
    "# df.head()\n",
    "\n",
    "# df.to_csv('simple_recipes.csv', index=False)"
   ]
  },
  {
   "cell_type": "code",
   "execution_count": null,
   "metadata": {
    "id": "R_U1ryzgxL5T"
   },
   "outputs": [
    {
     "ename": "AttributeError",
     "evalue": "'str' object has no attribute 'page_content'",
     "output_type": "error",
     "traceback": [
      "\u001b[1;31m---------------------------------------------------------------------------\u001b[0m",
      "\u001b[1;31mAttributeError\u001b[0m                            Traceback (most recent call last)",
      "Cell \u001b[1;32mIn[11], line 9\u001b[0m\n\u001b[0;32m      7\u001b[0m \u001b[38;5;66;03m# transform data\u001b[39;00m\n\u001b[0;32m      8\u001b[0m text_splitter \u001b[38;5;241m=\u001b[39m CharacterTextSplitter(chunk_size\u001b[38;5;241m=\u001b[39m\u001b[38;5;241m1000\u001b[39m, chunk_overlap\u001b[38;5;241m=\u001b[39m\u001b[38;5;241m0\u001b[39m)\n\u001b[1;32m----> 9\u001b[0m texts \u001b[38;5;241m=\u001b[39m \u001b[43mtext_splitter\u001b[49m\u001b[38;5;241;43m.\u001b[39;49m\u001b[43msplit_documents\u001b[49m\u001b[43m(\u001b[49m\u001b[43mdata\u001b[49m\u001b[43m)\u001b[49m\n",
      "File \u001b[1;32mc:\\Users\\Jason\\Documents\\GitHub\\Dishcovery\\.venv\\lib\\site-packages\\langchain_text_splitters\\base.py:94\u001b[0m, in \u001b[0;36mTextSplitter.split_documents\u001b[1;34m(self, documents)\u001b[0m\n\u001b[0;32m     92\u001b[0m texts, metadatas \u001b[38;5;241m=\u001b[39m [], []\n\u001b[0;32m     93\u001b[0m \u001b[38;5;28;01mfor\u001b[39;00m doc \u001b[38;5;129;01min\u001b[39;00m documents:\n\u001b[1;32m---> 94\u001b[0m     texts\u001b[38;5;241m.\u001b[39mappend(\u001b[43mdoc\u001b[49m\u001b[38;5;241;43m.\u001b[39;49m\u001b[43mpage_content\u001b[49m)\n\u001b[0;32m     95\u001b[0m     metadatas\u001b[38;5;241m.\u001b[39mappend(doc\u001b[38;5;241m.\u001b[39mmetadata)\n\u001b[0;32m     96\u001b[0m \u001b[38;5;28;01mreturn\u001b[39;00m \u001b[38;5;28mself\u001b[39m\u001b[38;5;241m.\u001b[39mcreate_documents(texts, metadatas\u001b[38;5;241m=\u001b[39mmetadatas)\n",
      "\u001b[1;31mAttributeError\u001b[0m: 'str' object has no attribute 'page_content'"
     ]
    }
   ],
   "source": [
    "# load data\n",
    "loader = CSVLoader(file_path='Data/recipes_food_com_cleaned.csv', encoding = \"utf-8\")\n",
    "data = loader.load()\n",
    "\n",
    "data = data[:100]\n",
    "\n",
    "# transform data\n",
    "text_splitter = CharacterTextSplitter(chunk_size=1000, chunk_overlap=0)\n",
    "texts = text_splitter.split_documents(data)"
   ]
  },
  {
   "cell_type": "code",
   "execution_count": null,
   "metadata": {
    "id": "YMR48AaOxWu2"
   },
   "outputs": [],
   "source": [
    "# embedding model\n",
    "model_name = 'BAAI/bge-base-en-v1.5'\n",
    "\n",
    "embeddings = HuggingFaceEmbeddings(model_name=model_name)"
   ]
  },
  {
   "cell_type": "code",
   "execution_count": null,
   "metadata": {
    "id": "govU07lEwltK"
   },
   "outputs": [],
   "source": [
    "# fill vector db\n",
    "docsearch = FAISS.from_documents(texts, embeddings)\n",
    "retriever=docsearch.as_retriever()"
   ]
  },
  {
   "cell_type": "code",
   "execution_count": null,
   "metadata": {
    "id": "nEF77jg1FDvf"
   },
   "outputs": [],
   "source": [
    "# similarity search\n",
    "ans = docsearch.similarity_search(\"beef tomato egg rice noodle\")\n",
    "print(ans[1].page_content)"
   ]
  },
  {
   "cell_type": "code",
   "execution_count": null,
   "metadata": {
    "id": "imXeORhUF77k"
   },
   "outputs": [],
   "source": [
    "# define generation llm\n",
    "# temperature defines how creative the model should be\n",
    "llm = HuggingFaceEndpoint(repo_id = \"microsoft/Phi-3-mini-4k-instruct\", temperature=0.2)"
   ]
  },
  {
   "cell_type": "code",
   "execution_count": null,
   "metadata": {
    "id": "gKgzFRFEHskU"
   },
   "outputs": [],
   "source": [
    "# ask a question to the llm\n",
    "llm(\"Recommend me a recipe with beef, tomato, egg, and rice\")\n",
    "\n",
    "# experiencing hallucinations"
   ]
  },
  {
   "cell_type": "code",
   "execution_count": null,
   "metadata": {
    "id": "-f0oEwxHL9lX"
   },
   "outputs": [],
   "source": [
    "# creating a chat bot\n",
    "template = '''\n",
    "You are an assistant for recommending recipes. Find the first and only recipe with as much of the listed ingredients as possible.\n",
    "Show the ingredients, steps, and nutrition.\n",
    "Only use the recipes in the retrieved context to answer the question.\n",
    "\n",
    "Question: {question}\n",
    "\n",
    "Context: {context}\n",
    "\n",
    "Answer:'''\n",
    "\n",
    "custom_rag_prompt = PromptTemplate(input_variables=['question','context'], template=template)\n",
    "\n",
    "qa_chain = LLMChain(\n",
    "    llm=llm,\n",
    "    prompt=custom_rag_prompt,\n",
    "    output_parser=StrOutputParser()\n",
    ")"
   ]
  },
  {
   "cell_type": "code",
   "execution_count": null,
   "metadata": {
    "id": "gjmcah6VOdV-"
   },
   "outputs": [],
   "source": [
    "# ask a question to the chatbot\n",
    "question = \"Recommend me a recipe with potatoes and eggs\"\n",
    "\n",
    "# context is currently set to the first relevant doc\n",
    "retrieved_doc = retriever.get_relevant_documents(question)[0]\n",
    "\n",
    "response = qa_chain.invoke({\n",
    "    \"context\": retrieved_doc.page_content,\n",
    "    \"question\": question\n",
    "})['text']\n",
    "\n",
    "print(response)"
   ]
  },
  {
   "cell_type": "code",
   "execution_count": null,
   "metadata": {
    "id": "no1gFflijb_Y"
   },
   "outputs": [],
   "source": [
    "retrieved_doc.page_content"
   ]
  }
 ],
 "metadata": {
  "colab": {
   "provenance": []
  },
  "kernelspec": {
   "display_name": ".venv",
   "language": "python",
   "name": "python3"
  },
  "language_info": {
   "codemirror_mode": {
    "name": "ipython",
    "version": 3
   },
   "file_extension": ".py",
   "mimetype": "text/x-python",
   "name": "python",
   "nbconvert_exporter": "python",
   "pygments_lexer": "ipython3",
   "version": "3.10.11"
  }
 },
 "nbformat": 4,
 "nbformat_minor": 0
}
